{
 "cells": [
  {
   "cell_type": "markdown",
   "metadata": {},
   "source": [
    "### Student Information\n",
    "Name: Pei Ling An 安珮綾\n",
    "\n",
    "Student ID: 110540017\n",
    "\n",
    "GitHub ID: [Annisme](https://github.com/Annisme)"
   ]
  },
  {
   "cell_type": "markdown",
   "metadata": {},
   "source": [
    "---"
   ]
  },
  {
   "cell_type": "markdown",
   "metadata": {},
   "source": [
    "### Instructions"
   ]
  },
  {
   "cell_type": "markdown",
   "metadata": {},
   "source": [
    "1. First: do the **take home** exercises in the [DM2024-Lab1-Master](https://github.com/didiersalazar/DM2024-Lab1-Master.git). You may need to copy some cells from the Lab notebook to this notebook. __This part is worth 20% of your grade.__\n",
    "\n",
    "\n",
    "2. Second: follow the same process from the [DM2024-Lab1-Master](https://github.com/didiersalazar/DM2024-Lab1-Master.git) on **the new dataset**. You don't need to explain all details as we did (some **minimal comments** explaining your code are useful though).  __This part is worth 30% of your grade.__\n",
    "    - Download the [the new dataset](https://huggingface.co/datasets/Senem/Nostalgic_Sentiment_Analysis_of_YouTube_Comments_Data). The dataset contains a `sentiment` and `comment` columns, with the sentiment labels being: 'nostalgia' and 'not nostalgia'. Read the specificiations of the dataset for background details. \n",
    "    - You are allowed to use and modify the `helper` functions in the folder of the first lab session (notice they may need modification) or create your own.\n",
    "\n",
    "\n",
    "3. Third: please attempt the following tasks on **the new dataset**. __This part is worth 30% of your grade.__\n",
    "    - Generate meaningful **new data visualizations**. Refer to online resources and the Data Mining textbook for inspiration and ideas. \n",
    "    - Generate **TF-IDF features** from the tokens of each text. This will generating a document matrix, however, the weights will be computed differently (using the TF-IDF value of each word per document as opposed to the word frequency). Refer to this Scikit-learn [guide](http://scikit-learn.org/stable/modules/generated/sklearn.feature_extraction.text.TfidfVectorizer.html) .\n",
    "    - Implement a simple **Naive Bayes classifier** that automatically classifies the records into their categories. Use both the TF-IDF features and word frequency features to build two seperate classifiers. Note that for the TF-IDF features you might need to use other type of NB classifier different than the one in the Master Notebook. Comment on the differences.  Refer to this [article](https://hub.packtpub.com/implementing-3-naive-bayes-classifiers-in-scikit-learn/).\n",
    "\n",
    "\n",
    "4. Fourth: In the lab, we applied each step really quickly just to illustrate how to work with your dataset. There are somethings that are not ideal or the most efficient/meaningful. Each dataset can be handled differently as well. What are those inefficent parts you noticed? How can you improve the Data preprocessing for these specific datasets? __This part is worth 10% of your grade.__\n",
    "\n",
    "\n",
    "5. Fifth: It's hard for us to follow if your code is messy, so please **tidy up your notebook** and **add minimal comments where needed**. __This part is worth 10% of your grade.__\n",
    "\n",
    "\n",
    "You can submit your homework following these guidelines: [Git Intro & How to hand your homework](https://github.com/didiersalazar/DM2024-Lab1-Master/blob/main/Git%20Intro%20%26%20How%20to%20hand%20your%20homework.ipynb). Make sure to commit and save your changes to your repository __BEFORE the deadline (October 27th 11:59 pm, Sunday)__. "
   ]
  },
  {
   "cell_type": "code",
   "execution_count": null,
   "metadata": {},
   "outputs": [],
   "source": [
    "### Begin Assignment Here\n",
    "!pip install jupyter numpy pandas matplotlib plotly nltk scikit-learn seaborn pami umap-learn"
   ]
  },
  {
   "cell_type": "code",
   "execution_count": 3,
   "metadata": {},
   "outputs": [],
   "source": [
    "# import library\n",
    "import pandas as pd\n",
    "import numpy as np\n",
    "import nltk\n",
    "from sklearn.datasets import fetch_20newsgroups\n",
    "from sklearn.feature_extraction.text import CountVectorizer\n",
    "import plotly as py\n",
    "import math\n",
    "import PAMI\n",
    "import umap\n",
    "%matplotlib inline\n"
   ]
  },
  {
   "cell_type": "code",
   "execution_count": 24,
   "metadata": {},
   "outputs": [],
   "source": [
    "categories = ['notstalgia', 'nostalgia']"
   ]
  },
  {
   "cell_type": "code",
   "execution_count": 22,
   "metadata": {},
   "outputs": [],
   "source": [
    "from datasets import load_dataset\n",
    "\n",
    "import pandas as pd\n",
    "\n",
    "df = pd.read_csv(\"hf://datasets/Senem/Nostalgic_Sentiment_Analysis_of_YouTube_Comments_Data/Nostalgic_Sentiment_Analysis_of_YouTube_Comments_Data.csv\")\n"
   ]
  },
  {
   "cell_type": "code",
   "execution_count": 20,
   "metadata": {},
   "outputs": [
    {
     "name": "stdout",
     "output_type": "stream",
     "text": [
      "       sentiment                                            comment\n",
      "0  not nostalgia  He was a singer with a golden voice that I lov...\n",
      "1      nostalgia  The mist beautiful voice ever I listened to hi...\n",
      "2      nostalgia  I have most of Mr. Reeves songs.  Always love ...\n",
      "3  not nostalgia  30 day leave from 1st tour in Viet Nam to conv...\n",
      "4      nostalgia  listening to his songs reminds me of my mum wh...\n"
     ]
    }
   ],
   "source": [
    "print(df.head())"
   ]
  },
  {
   "cell_type": "code",
   "execution_count": 62,
   "metadata": {},
   "outputs": [
    {
     "name": "stdout",
     "output_type": "stream",
     "text": [
      "          sentiment                                            comment  \\\n",
      "1116  not nostalgia  Perception of death, birth, sorrow, suffering,...   \n",
      "1368  not nostalgia  One of those Classic (and there were so many o...   \n",
      "\n",
      "      encoded_sentiment  \n",
      "1116                  1  \n",
      "1368                  1  \n"
     ]
    }
   ],
   "source": [
    "from sklearn.preprocessing import LabelEncoder\n",
    "categories = [\"nostalgia\", \"not nostalgia\"]\n",
    "label_encoder = LabelEncoder()\n",
    "df['encoded_sentiment'] = label_encoder.fit_transform(df['sentiment'])\n",
    "\n",
    "categories = [\"nostalgia\", \"not nostalgia\"]\n",
    "train_subset = df[df['sentiment'].isin(categories)].sample(frac=0.8, random_state=42)  # 80% 為訓練集\n",
    "test_subset = df.drop(train_subset.index)  # 其餘 20% 為測試集\n",
    "\n",
    "# 檢視訓練集中前兩筆資料\n",
    "print(train_subset.head(2))"
   ]
  },
  {
   "cell_type": "code",
   "execution_count": 64,
   "metadata": {},
   "outputs": [
    {
     "data": {
      "text/plain": [
       "1116    Perception of death, birth, sorrow, suffering,...\n",
       "1368    One of those Classic (and there were so many o...\n",
       "Name: comment, dtype: object"
      ]
     },
     "execution_count": 64,
     "metadata": {},
     "output_type": "execute_result"
    }
   ],
   "source": [
    "train_subset[:2]['comment']"
   ]
  },
  {
   "cell_type": "code",
   "execution_count": 70,
   "metadata": {},
   "outputs": [
    {
     "name": "stdout",
     "output_type": "stream",
     "text": [
      "['not nostalgia' 'nostalgia']\n"
     ]
    }
   ],
   "source": [
    "unique_categories = df['sentiment'].unique()\n",
    "\n",
    "print( unique_categories)"
   ]
  },
  {
   "cell_type": "code",
   "execution_count": 71,
   "metadata": {},
   "outputs": [
    {
     "data": {
      "text/plain": [
       "1200"
      ]
     },
     "execution_count": 71,
     "metadata": {},
     "output_type": "execute_result"
    }
   ],
   "source": [
    "len(train_subset)"
   ]
  },
  {
   "cell_type": "code",
   "execution_count": 74,
   "metadata": {},
   "outputs": [
    {
     "name": "stdout",
     "output_type": "stream",
     "text": [
      "Perception of death, birth, sorrow, suffering, old age\n"
     ]
    }
   ],
   "source": [
    "print(\"\\n\".join(train_subset.iloc[0]['comment'].splitlines()))"
   ]
  },
  {
   "cell_type": "code",
   "execution_count": 79,
   "metadata": {},
   "outputs": [
    {
     "data": {
      "text/plain": [
       "'not nostalgia'"
      ]
     },
     "execution_count": 79,
     "metadata": {},
     "output_type": "execute_result"
    }
   ],
   "source": [
    "train_subset.iloc[0]['sentiment']"
   ]
  },
  {
   "cell_type": "code",
   "execution_count": 78,
   "metadata": {},
   "outputs": [
    {
     "data": {
      "text/plain": [
       "np.int64(1)"
      ]
     },
     "execution_count": 78,
     "metadata": {},
     "output_type": "execute_result"
    }
   ],
   "source": [
    "train_subset.iloc[0]['encoded_sentiment']"
   ]
  },
  {
   "cell_type": "code",
   "execution_count": 81,
   "metadata": {},
   "outputs": [
    {
     "name": "stdout",
     "output_type": "stream",
     "text": [
      "[1, 1, 0, 0, 0, 1, 0, 1, 1, 1]\n"
     ]
    }
   ],
   "source": [
    "encoded_labels = train_subset.iloc[:10]['encoded_sentiment'].tolist()\n",
    "print(encoded_labels)"
   ]
  },
  {
   "cell_type": "code",
   "execution_count": 83,
   "metadata": {},
   "outputs": [
    {
     "name": "stdout",
     "output_type": "stream",
     "text": [
      "not nostalgia\n",
      "not nostalgia\n",
      "nostalgia\n",
      "nostalgia\n",
      "nostalgia\n",
      "not nostalgia\n",
      "nostalgia\n",
      "not nostalgia\n",
      "not nostalgia\n",
      "not nostalgia\n"
     ]
    }
   ],
   "source": [
    "# 遍歷訓練集中前 10 筆資料並顯示對應的類別名稱\n",
    "for i in range(10):\n",
    "    category_name = train_subset.iloc[i]['sentiment']  # 提取類別名稱\n",
    "    print(f\"{category_name}\")"
   ]
  },
  {
   "cell_type": "code",
   "execution_count": 86,
   "metadata": {},
   "outputs": [
    {
     "name": "stdout",
     "output_type": "stream",
     "text": [
      "資料 1：\n",
      " I know the song you're talking about. I'm sure I have it on an album. I moved not long ago so I will have to dig to find it. It ended (as I remember) \" I'll always be your baby through out the years\" (I think).\n",
      "\n",
      "資料 2：\n",
      " I know the song you're talking about. I'm sure I have it on an album. I moved not long ago so I will have to dig to find it. It ended (as I remember) \" I'll always be your baby through out the years\" (I think).\n",
      "\n",
      "資料 3：\n",
      " I know the song you're talking about. I'm sure I have it on an album. I moved not long ago so I will have to dig to find it. It ended (as I remember) \" I'll always be your baby through out the years\" (I think).\n",
      "\n"
     ]
    }
   ],
   "source": [
    "for text in range(3):\n",
    "    print(f\"資料 {text + 1}：\\n{train_subset.iloc[i]['comment']}\\n\")"
   ]
  },
  {
   "cell_type": "code",
   "execution_count": 123,
   "metadata": {},
   "outputs": [],
   "source": [
    "import pandas as pd\n",
    "import data_mining_helpers as dmh"
   ]
  },
  {
   "cell_type": "code",
   "execution_count": 129,
   "metadata": {},
   "outputs": [],
   "source": [
    "import pandas as pd\n",
    "\n",
    "# 定義格式化函數\n",
    "def format_rows(docs):\n",
    "    \"\"\"格式化文本字段並去除特殊字符，適用於 DataFrame 格式。\"\"\"\n",
    "    D = []\n",
    "    for text in docs['comment']:  # 假設 'comment' 是包含文本資料的欄位名稱\n",
    "        temp_d = \" \".join(text.split(\"\\n\")).strip('\\n\\t')\n",
    "        D.append([temp_d])\n",
    "    return D\n",
    "\n",
    "# 構建格式化後的 DataFrame\n",
    "formatted_data = format_rows(train_subset)  # 呼叫格式化函數\n",
    "X = pd.DataFrame(formatted_data, columns=['text'])  # 使用 'text' 為欄位名稱\n"
   ]
  },
  {
   "cell_type": "code",
   "execution_count": 130,
   "metadata": {},
   "outputs": [
    {
     "data": {
      "text/plain": [
       "1200"
      ]
     },
     "execution_count": 130,
     "metadata": {},
     "output_type": "execute_result"
    }
   ],
   "source": [
    "len(X)"
   ]
  },
  {
   "cell_type": "code",
   "execution_count": 131,
   "metadata": {},
   "outputs": [
    {
     "data": {
      "text/html": [
       "<div>\n",
       "<style scoped>\n",
       "    .dataframe tbody tr th:only-of-type {\n",
       "        vertical-align: middle;\n",
       "    }\n",
       "\n",
       "    .dataframe tbody tr th {\n",
       "        vertical-align: top;\n",
       "    }\n",
       "\n",
       "    .dataframe thead th {\n",
       "        text-align: right;\n",
       "    }\n",
       "</style>\n",
       "<table border=\"1\" class=\"dataframe\">\n",
       "  <thead>\n",
       "    <tr style=\"text-align: right;\">\n",
       "      <th></th>\n",
       "      <th>text</th>\n",
       "    </tr>\n",
       "  </thead>\n",
       "  <tbody>\n",
       "    <tr>\n",
       "      <th>0</th>\n",
       "      <td>Perception of death, birth, sorrow, suffering,...</td>\n",
       "    </tr>\n",
       "    <tr>\n",
       "      <th>1</th>\n",
       "      <td>One of those Classic (and there were so many o...</td>\n",
       "    </tr>\n",
       "  </tbody>\n",
       "</table>\n",
       "</div>"
      ],
      "text/plain": [
       "                                                text\n",
       "0  Perception of death, birth, sorrow, suffering,...\n",
       "1  One of those Classic (and there were so many o..."
      ]
     },
     "execution_count": 131,
     "metadata": {},
     "output_type": "execute_result"
    }
   ],
   "source": [
    "X[:2]"
   ]
  },
  {
   "cell_type": "code",
   "execution_count": 133,
   "metadata": {},
   "outputs": [
    {
     "name": "stdout",
     "output_type": "stream",
     "text": [
      "Perception of death, birth, sorrow, suffering, old age\n",
      "One of those Classic (and there were so many of them) 60's songs. Era defining. Great sound, given what was available in the way  of Recording Equipment back then. Haunting, moving and beautifully crafted music.\n"
     ]
    }
   ],
   "source": [
    "# 遍歷 DataFrame X 中 'text' 欄位的前兩篇文章內容\n",
    "for t in X[\"text\"][:2]:\n",
    "    print(t)"
   ]
  },
  {
   "cell_type": "code",
   "execution_count": 135,
   "metadata": {},
   "outputs": [],
   "source": [
    "X['category'] = train_subset['encoded_sentiment'].values"
   ]
  },
  {
   "cell_type": "code",
   "execution_count": 141,
   "metadata": {},
   "outputs": [],
   "source": [
    "X['category_name'] = X['category'].apply(lambda x: categories[x])"
   ]
  },
  {
   "cell_type": "code",
   "execution_count": 142,
   "metadata": {},
   "outputs": [
    {
     "data": {
      "text/html": [
       "<div>\n",
       "<style scoped>\n",
       "    .dataframe tbody tr th:only-of-type {\n",
       "        vertical-align: middle;\n",
       "    }\n",
       "\n",
       "    .dataframe tbody tr th {\n",
       "        vertical-align: top;\n",
       "    }\n",
       "\n",
       "    .dataframe thead th {\n",
       "        text-align: right;\n",
       "    }\n",
       "</style>\n",
       "<table border=\"1\" class=\"dataframe\">\n",
       "  <thead>\n",
       "    <tr style=\"text-align: right;\">\n",
       "      <th></th>\n",
       "      <th>text</th>\n",
       "      <th>category</th>\n",
       "      <th>category_name</th>\n",
       "    </tr>\n",
       "  </thead>\n",
       "  <tbody>\n",
       "    <tr>\n",
       "      <th>0</th>\n",
       "      <td>Perception of death, birth, sorrow, suffering,...</td>\n",
       "      <td>1</td>\n",
       "      <td>not nostalgia</td>\n",
       "    </tr>\n",
       "    <tr>\n",
       "      <th>1</th>\n",
       "      <td>One of those Classic (and there were so many o...</td>\n",
       "      <td>1</td>\n",
       "      <td>not nostalgia</td>\n",
       "    </tr>\n",
       "    <tr>\n",
       "      <th>2</th>\n",
       "      <td>So many memories in each and every song</td>\n",
       "      <td>0</td>\n",
       "      <td>nostalgia</td>\n",
       "    </tr>\n",
       "    <tr>\n",
       "      <th>3</th>\n",
       "      <td>Was it in 1968 when Engelbert released it?  I ...</td>\n",
       "      <td>0</td>\n",
       "      <td>nostalgia</td>\n",
       "    </tr>\n",
       "    <tr>\n",
       "      <th>4</th>\n",
       "      <td>OMG talk about take a trip down memory lane ho...</td>\n",
       "      <td>0</td>\n",
       "      <td>nostalgia</td>\n",
       "    </tr>\n",
       "    <tr>\n",
       "      <th>5</th>\n",
       "      <td>The song is great. Glitter - not so great. Peo...</td>\n",
       "      <td>1</td>\n",
       "      <td>not nostalgia</td>\n",
       "    </tr>\n",
       "    <tr>\n",
       "      <th>6</th>\n",
       "      <td>Every time I hear this song, it reminds me of ...</td>\n",
       "      <td>0</td>\n",
       "      <td>nostalgia</td>\n",
       "    </tr>\n",
       "    <tr>\n",
       "      <th>7</th>\n",
       "      <td>Broken hearts like anything can be mended...i ...</td>\n",
       "      <td>1</td>\n",
       "      <td>not nostalgia</td>\n",
       "    </tr>\n",
       "    <tr>\n",
       "      <th>8</th>\n",
       "      <td>Although not in front of a blue screen this is...</td>\n",
       "      <td>1</td>\n",
       "      <td>not nostalgia</td>\n",
       "    </tr>\n",
       "    <tr>\n",
       "      <th>9</th>\n",
       "      <td>I know the song you're talking about. I'm sur...</td>\n",
       "      <td>1</td>\n",
       "      <td>not nostalgia</td>\n",
       "    </tr>\n",
       "  </tbody>\n",
       "</table>\n",
       "</div>"
      ],
      "text/plain": [
       "                                                text  category  category_name\n",
       "0  Perception of death, birth, sorrow, suffering,...         1  not nostalgia\n",
       "1  One of those Classic (and there were so many o...         1  not nostalgia\n",
       "2            So many memories in each and every song         0      nostalgia\n",
       "3  Was it in 1968 when Engelbert released it?  I ...         0      nostalgia\n",
       "4  OMG talk about take a trip down memory lane ho...         0      nostalgia\n",
       "5  The song is great. Glitter - not so great. Peo...         1  not nostalgia\n",
       "6  Every time I hear this song, it reminds me of ...         0      nostalgia\n",
       "7  Broken hearts like anything can be mended...i ...         1  not nostalgia\n",
       "8  Although not in front of a blue screen this is...         1  not nostalgia\n",
       "9   I know the song you're talking about. I'm sur...         1  not nostalgia"
      ]
     },
     "execution_count": 142,
     "metadata": {},
     "output_type": "execute_result"
    }
   ],
   "source": [
    "X[0:10]"
   ]
  },
  {
   "cell_type": "code",
   "execution_count": 143,
   "metadata": {},
   "outputs": [
    {
     "data": {
      "text/html": [
       "<div>\n",
       "<style scoped>\n",
       "    .dataframe tbody tr th:only-of-type {\n",
       "        vertical-align: middle;\n",
       "    }\n",
       "\n",
       "    .dataframe tbody tr th {\n",
       "        vertical-align: top;\n",
       "    }\n",
       "\n",
       "    .dataframe thead th {\n",
       "        text-align: right;\n",
       "    }\n",
       "</style>\n",
       "<table border=\"1\" class=\"dataframe\">\n",
       "  <thead>\n",
       "    <tr style=\"text-align: right;\">\n",
       "      <th></th>\n",
       "      <th>text</th>\n",
       "      <th>category_name</th>\n",
       "    </tr>\n",
       "  </thead>\n",
       "  <tbody>\n",
       "    <tr>\n",
       "      <th>0</th>\n",
       "      <td>Perception of death, birth, sorrow, suffering,...</td>\n",
       "      <td>not nostalgia</td>\n",
       "    </tr>\n",
       "    <tr>\n",
       "      <th>1</th>\n",
       "      <td>One of those Classic (and there were so many o...</td>\n",
       "      <td>not nostalgia</td>\n",
       "    </tr>\n",
       "    <tr>\n",
       "      <th>2</th>\n",
       "      <td>So many memories in each and every song</td>\n",
       "      <td>nostalgia</td>\n",
       "    </tr>\n",
       "    <tr>\n",
       "      <th>3</th>\n",
       "      <td>Was it in 1968 when Engelbert released it?  I ...</td>\n",
       "      <td>nostalgia</td>\n",
       "    </tr>\n",
       "    <tr>\n",
       "      <th>4</th>\n",
       "      <td>OMG talk about take a trip down memory lane ho...</td>\n",
       "      <td>nostalgia</td>\n",
       "    </tr>\n",
       "    <tr>\n",
       "      <th>5</th>\n",
       "      <td>The song is great. Glitter - not so great. Peo...</td>\n",
       "      <td>not nostalgia</td>\n",
       "    </tr>\n",
       "    <tr>\n",
       "      <th>6</th>\n",
       "      <td>Every time I hear this song, it reminds me of ...</td>\n",
       "      <td>nostalgia</td>\n",
       "    </tr>\n",
       "    <tr>\n",
       "      <th>7</th>\n",
       "      <td>Broken hearts like anything can be mended...i ...</td>\n",
       "      <td>not nostalgia</td>\n",
       "    </tr>\n",
       "    <tr>\n",
       "      <th>8</th>\n",
       "      <td>Although not in front of a blue screen this is...</td>\n",
       "      <td>not nostalgia</td>\n",
       "    </tr>\n",
       "    <tr>\n",
       "      <th>9</th>\n",
       "      <td>I know the song you're talking about. I'm sur...</td>\n",
       "      <td>not nostalgia</td>\n",
       "    </tr>\n",
       "  </tbody>\n",
       "</table>\n",
       "</div>"
      ],
      "text/plain": [
       "                                                text  category_name\n",
       "0  Perception of death, birth, sorrow, suffering,...  not nostalgia\n",
       "1  One of those Classic (and there were so many o...  not nostalgia\n",
       "2            So many memories in each and every song      nostalgia\n",
       "3  Was it in 1968 when Engelbert released it?  I ...      nostalgia\n",
       "4  OMG talk about take a trip down memory lane ho...      nostalgia\n",
       "5  The song is great. Glitter - not so great. Peo...  not nostalgia\n",
       "6  Every time I hear this song, it reminds me of ...      nostalgia\n",
       "7  Broken hearts like anything can be mended...i ...  not nostalgia\n",
       "8  Although not in front of a blue screen this is...  not nostalgia\n",
       "9   I know the song you're talking about. I'm sur...  not nostalgia"
      ]
     },
     "execution_count": 143,
     "metadata": {},
     "output_type": "execute_result"
    }
   ],
   "source": [
    "X[:10][[\"text\",\"category_name\"]]"
   ]
  },
  {
   "cell_type": "code",
   "execution_count": 144,
   "metadata": {},
   "outputs": [
    {
     "data": {
      "text/html": [
       "<div>\n",
       "<style scoped>\n",
       "    .dataframe tbody tr th:only-of-type {\n",
       "        vertical-align: middle;\n",
       "    }\n",
       "\n",
       "    .dataframe tbody tr th {\n",
       "        vertical-align: top;\n",
       "    }\n",
       "\n",
       "    .dataframe thead th {\n",
       "        text-align: right;\n",
       "    }\n",
       "</style>\n",
       "<table border=\"1\" class=\"dataframe\">\n",
       "  <thead>\n",
       "    <tr style=\"text-align: right;\">\n",
       "      <th></th>\n",
       "      <th>text</th>\n",
       "      <th>category</th>\n",
       "      <th>category_name</th>\n",
       "    </tr>\n",
       "  </thead>\n",
       "  <tbody>\n",
       "    <tr>\n",
       "      <th>0</th>\n",
       "      <td>False</td>\n",
       "      <td>False</td>\n",
       "      <td>False</td>\n",
       "    </tr>\n",
       "    <tr>\n",
       "      <th>1</th>\n",
       "      <td>False</td>\n",
       "      <td>False</td>\n",
       "      <td>False</td>\n",
       "    </tr>\n",
       "    <tr>\n",
       "      <th>2</th>\n",
       "      <td>False</td>\n",
       "      <td>False</td>\n",
       "      <td>False</td>\n",
       "    </tr>\n",
       "    <tr>\n",
       "      <th>3</th>\n",
       "      <td>False</td>\n",
       "      <td>False</td>\n",
       "      <td>False</td>\n",
       "    </tr>\n",
       "    <tr>\n",
       "      <th>4</th>\n",
       "      <td>False</td>\n",
       "      <td>False</td>\n",
       "      <td>False</td>\n",
       "    </tr>\n",
       "    <tr>\n",
       "      <th>...</th>\n",
       "      <td>...</td>\n",
       "      <td>...</td>\n",
       "      <td>...</td>\n",
       "    </tr>\n",
       "    <tr>\n",
       "      <th>1195</th>\n",
       "      <td>False</td>\n",
       "      <td>False</td>\n",
       "      <td>False</td>\n",
       "    </tr>\n",
       "    <tr>\n",
       "      <th>1196</th>\n",
       "      <td>False</td>\n",
       "      <td>False</td>\n",
       "      <td>False</td>\n",
       "    </tr>\n",
       "    <tr>\n",
       "      <th>1197</th>\n",
       "      <td>False</td>\n",
       "      <td>False</td>\n",
       "      <td>False</td>\n",
       "    </tr>\n",
       "    <tr>\n",
       "      <th>1198</th>\n",
       "      <td>False</td>\n",
       "      <td>False</td>\n",
       "      <td>False</td>\n",
       "    </tr>\n",
       "    <tr>\n",
       "      <th>1199</th>\n",
       "      <td>False</td>\n",
       "      <td>False</td>\n",
       "      <td>False</td>\n",
       "    </tr>\n",
       "  </tbody>\n",
       "</table>\n",
       "<p>1200 rows × 3 columns</p>\n",
       "</div>"
      ],
      "text/plain": [
       "       text  category  category_name\n",
       "0     False     False          False\n",
       "1     False     False          False\n",
       "2     False     False          False\n",
       "3     False     False          False\n",
       "4     False     False          False\n",
       "...     ...       ...            ...\n",
       "1195  False     False          False\n",
       "1196  False     False          False\n",
       "1197  False     False          False\n",
       "1198  False     False          False\n",
       "1199  False     False          False\n",
       "\n",
       "[1200 rows x 3 columns]"
      ]
     },
     "execution_count": 144,
     "metadata": {},
     "output_type": "execute_result"
    }
   ],
   "source": [
    "X.isnull()"
   ]
  },
  {
   "cell_type": "code",
   "execution_count": 145,
   "metadata": {},
   "outputs": [
    {
     "data": {
      "text/html": [
       "<div>\n",
       "<style scoped>\n",
       "    .dataframe tbody tr th:only-of-type {\n",
       "        vertical-align: middle;\n",
       "    }\n",
       "\n",
       "    .dataframe tbody tr th {\n",
       "        vertical-align: top;\n",
       "    }\n",
       "\n",
       "    .dataframe thead th {\n",
       "        text-align: right;\n",
       "    }\n",
       "</style>\n",
       "<table border=\"1\" class=\"dataframe\">\n",
       "  <thead>\n",
       "    <tr style=\"text-align: right;\">\n",
       "      <th></th>\n",
       "      <th>text</th>\n",
       "      <th>category</th>\n",
       "      <th>category_name</th>\n",
       "    </tr>\n",
       "  </thead>\n",
       "  <tbody>\n",
       "    <tr>\n",
       "      <th>0</th>\n",
       "      <td>The amoung of missing records is:</td>\n",
       "      <td>The amoung of missing records is:</td>\n",
       "      <td>The amoung of missing records is:</td>\n",
       "    </tr>\n",
       "    <tr>\n",
       "      <th>1</th>\n",
       "      <td>0</td>\n",
       "      <td>0</td>\n",
       "      <td>0</td>\n",
       "    </tr>\n",
       "  </tbody>\n",
       "</table>\n",
       "</div>"
      ],
      "text/plain": [
       "                                 text                            category  \\\n",
       "0  The amoung of missing records is:   The amoung of missing records is:    \n",
       "1                                   0                                   0   \n",
       "\n",
       "                        category_name  \n",
       "0  The amoung of missing records is:   \n",
       "1                                   0  "
      ]
     },
     "execution_count": 145,
     "metadata": {},
     "output_type": "execute_result"
    }
   ],
   "source": [
    "X.isnull().apply(lambda x: dmh.check_missing_values(x))"
   ]
  },
  {
   "cell_type": "code",
   "execution_count": 146,
   "metadata": {},
   "outputs": [
    {
     "data": {
      "text/plain": [
       "0       (The amoung of missing records is: , 0)\n",
       "1       (The amoung of missing records is: , 0)\n",
       "2       (The amoung of missing records is: , 0)\n",
       "3       (The amoung of missing records is: , 0)\n",
       "4       (The amoung of missing records is: , 0)\n",
       "                         ...                   \n",
       "1195    (The amoung of missing records is: , 0)\n",
       "1196    (The amoung of missing records is: , 0)\n",
       "1197    (The amoung of missing records is: , 0)\n",
       "1198    (The amoung of missing records is: , 0)\n",
       "1199    (The amoung of missing records is: , 0)\n",
       "Length: 1200, dtype: object"
      ]
     },
     "execution_count": 146,
     "metadata": {},
     "output_type": "execute_result"
    }
   ],
   "source": [
    "X.isnull().apply(lambda x: dmh.check_missing_values(x), axis=1)"
   ]
  },
  {
   "cell_type": "code",
   "execution_count": 147,
   "metadata": {},
   "outputs": [],
   "source": [
    "dummy_series = pd.Series([\"dummy_record\", 1], index=[\"text\", \"category\"])"
   ]
  },
  {
   "cell_type": "code",
   "execution_count": 148,
   "metadata": {},
   "outputs": [
    {
     "data": {
      "text/plain": [
       "text        dummy_record\n",
       "category               1\n",
       "dtype: object"
      ]
     },
     "execution_count": 148,
     "metadata": {},
     "output_type": "execute_result"
    }
   ],
   "source": [
    "dummy_series"
   ]
  },
  {
   "cell_type": "code",
   "execution_count": 149,
   "metadata": {},
   "outputs": [
    {
     "data": {
      "text/html": [
       "<div>\n",
       "<style scoped>\n",
       "    .dataframe tbody tr th:only-of-type {\n",
       "        vertical-align: middle;\n",
       "    }\n",
       "\n",
       "    .dataframe tbody tr th {\n",
       "        vertical-align: top;\n",
       "    }\n",
       "\n",
       "    .dataframe thead th {\n",
       "        text-align: right;\n",
       "    }\n",
       "</style>\n",
       "<table border=\"1\" class=\"dataframe\">\n",
       "  <thead>\n",
       "    <tr style=\"text-align: right;\">\n",
       "      <th></th>\n",
       "      <th>text</th>\n",
       "      <th>category</th>\n",
       "    </tr>\n",
       "  </thead>\n",
       "  <tbody>\n",
       "    <tr>\n",
       "      <th>0</th>\n",
       "      <td>dummy_record</td>\n",
       "      <td>1</td>\n",
       "    </tr>\n",
       "  </tbody>\n",
       "</table>\n",
       "</div>"
      ],
      "text/plain": [
       "           text category\n",
       "0  dummy_record        1"
      ]
     },
     "execution_count": 149,
     "metadata": {},
     "output_type": "execute_result"
    }
   ],
   "source": [
    "dummy_series.to_frame().T\n",
    "# .to_frame() -> Convert Series to DataFrame\n",
    "# .T          -> Transpose"
   ]
  },
  {
   "cell_type": "code",
   "execution_count": 150,
   "metadata": {},
   "outputs": [],
   "source": [
    "result_with_series = pd.concat([X, dummy_series.to_frame().T], ignore_index=True)"
   ]
  },
  {
   "cell_type": "code",
   "execution_count": 151,
   "metadata": {},
   "outputs": [
    {
     "data": {
      "text/plain": [
       "1201"
      ]
     },
     "execution_count": 151,
     "metadata": {},
     "output_type": "execute_result"
    }
   ],
   "source": [
    "len(result_with_series)"
   ]
  },
  {
   "cell_type": "code",
   "execution_count": 152,
   "metadata": {},
   "outputs": [
    {
     "data": {
      "text/html": [
       "<div>\n",
       "<style scoped>\n",
       "    .dataframe tbody tr th:only-of-type {\n",
       "        vertical-align: middle;\n",
       "    }\n",
       "\n",
       "    .dataframe tbody tr th {\n",
       "        vertical-align: top;\n",
       "    }\n",
       "\n",
       "    .dataframe thead th {\n",
       "        text-align: right;\n",
       "    }\n",
       "</style>\n",
       "<table border=\"1\" class=\"dataframe\">\n",
       "  <thead>\n",
       "    <tr style=\"text-align: right;\">\n",
       "      <th></th>\n",
       "      <th>text</th>\n",
       "      <th>category</th>\n",
       "      <th>category_name</th>\n",
       "    </tr>\n",
       "  </thead>\n",
       "  <tbody>\n",
       "    <tr>\n",
       "      <th>0</th>\n",
       "      <td>The amoung of missing records is:</td>\n",
       "      <td>The amoung of missing records is:</td>\n",
       "      <td>The amoung of missing records is:</td>\n",
       "    </tr>\n",
       "    <tr>\n",
       "      <th>1</th>\n",
       "      <td>0</td>\n",
       "      <td>0</td>\n",
       "      <td>1</td>\n",
       "    </tr>\n",
       "  </tbody>\n",
       "</table>\n",
       "</div>"
      ],
      "text/plain": [
       "                                 text                            category  \\\n",
       "0  The amoung of missing records is:   The amoung of missing records is:    \n",
       "1                                   0                                   0   \n",
       "\n",
       "                        category_name  \n",
       "0  The amoung of missing records is:   \n",
       "1                                   1  "
      ]
     },
     "execution_count": 152,
     "metadata": {},
     "output_type": "execute_result"
    }
   ],
   "source": [
    "result_with_series.isnull().apply(lambda x: dmh.check_missing_values(x))"
   ]
  },
  {
   "cell_type": "code",
   "execution_count": 153,
   "metadata": {},
   "outputs": [],
   "source": [
    "# dummy record as dictionary format\n",
    "dummy_dict = [{'text': 'dummy_record',\n",
    "               'category': 1\n",
    "              }]"
   ]
  },
  {
   "cell_type": "code",
   "execution_count": 154,
   "metadata": {},
   "outputs": [],
   "source": [
    "X = pd.concat([X, pd.DataFrame(dummy_dict)], ignore_index=True)\n"
   ]
  },
  {
   "cell_type": "code",
   "execution_count": 155,
   "metadata": {},
   "outputs": [
    {
     "data": {
      "text/plain": [
       "1201"
      ]
     },
     "execution_count": 155,
     "metadata": {},
     "output_type": "execute_result"
    }
   ],
   "source": [
    "len(X)"
   ]
  },
  {
   "cell_type": "code",
   "execution_count": 156,
   "metadata": {},
   "outputs": [],
   "source": [
    "X.dropna(inplace=True)"
   ]
  },
  {
   "cell_type": "code",
   "execution_count": 157,
   "metadata": {},
   "outputs": [
    {
     "data": {
      "text/html": [
       "<div>\n",
       "<style scoped>\n",
       "    .dataframe tbody tr th:only-of-type {\n",
       "        vertical-align: middle;\n",
       "    }\n",
       "\n",
       "    .dataframe tbody tr th {\n",
       "        vertical-align: top;\n",
       "    }\n",
       "\n",
       "    .dataframe thead th {\n",
       "        text-align: right;\n",
       "    }\n",
       "</style>\n",
       "<table border=\"1\" class=\"dataframe\">\n",
       "  <thead>\n",
       "    <tr style=\"text-align: right;\">\n",
       "      <th></th>\n",
       "      <th>text</th>\n",
       "      <th>category</th>\n",
       "      <th>category_name</th>\n",
       "    </tr>\n",
       "  </thead>\n",
       "  <tbody>\n",
       "    <tr>\n",
       "      <th>0</th>\n",
       "      <td>The amoung of missing records is:</td>\n",
       "      <td>The amoung of missing records is:</td>\n",
       "      <td>The amoung of missing records is:</td>\n",
       "    </tr>\n",
       "    <tr>\n",
       "      <th>1</th>\n",
       "      <td>0</td>\n",
       "      <td>0</td>\n",
       "      <td>0</td>\n",
       "    </tr>\n",
       "  </tbody>\n",
       "</table>\n",
       "</div>"
      ],
      "text/plain": [
       "                                 text                            category  \\\n",
       "0  The amoung of missing records is:   The amoung of missing records is:    \n",
       "1                                   0                                   0   \n",
       "\n",
       "                        category_name  \n",
       "0  The amoung of missing records is:   \n",
       "1                                   0  "
      ]
     },
     "execution_count": 157,
     "metadata": {},
     "output_type": "execute_result"
    }
   ],
   "source": [
    "X.isnull().apply(lambda x: dmh.check_missing_values(x))"
   ]
  },
  {
   "cell_type": "code",
   "execution_count": 158,
   "metadata": {},
   "outputs": [
    {
     "data": {
      "text/plain": [
       "1200"
      ]
     },
     "execution_count": 158,
     "metadata": {},
     "output_type": "execute_result"
    }
   ],
   "source": [
    "len(X)"
   ]
  },
  {
   "cell_type": "code",
   "execution_count": 159,
   "metadata": {},
   "outputs": [
    {
     "data": {
      "text/plain": [
       "0       False\n",
       "1       False\n",
       "2       False\n",
       "3       False\n",
       "4       False\n",
       "        ...  \n",
       "1195    False\n",
       "1196    False\n",
       "1197    False\n",
       "1198    False\n",
       "1199    False\n",
       "Length: 1200, dtype: bool"
      ]
     },
     "execution_count": 159,
     "metadata": {},
     "output_type": "execute_result"
    }
   ],
   "source": [
    "X.duplicated()"
   ]
  },
  {
   "cell_type": "code",
   "execution_count": 160,
   "metadata": {},
   "outputs": [
    {
     "data": {
      "text/plain": [
       "1"
      ]
     },
     "execution_count": 160,
     "metadata": {},
     "output_type": "execute_result"
    }
   ],
   "source": [
    "sum(X.duplicated())"
   ]
  },
  {
   "cell_type": "code",
   "execution_count": 161,
   "metadata": {},
   "outputs": [
    {
     "data": {
      "text/plain": [
       "1"
      ]
     },
     "execution_count": 161,
     "metadata": {},
     "output_type": "execute_result"
    }
   ],
   "source": [
    "sum(X.duplicated('text'))"
   ]
  },
  {
   "cell_type": "code",
   "execution_count": 162,
   "metadata": {},
   "outputs": [],
   "source": [
    "X.drop_duplicates(keep=False, inplace=True) # inplace applies changes directly on our dataframe\n"
   ]
  },
  {
   "cell_type": "code",
   "execution_count": 163,
   "metadata": {},
   "outputs": [
    {
     "data": {
      "text/plain": [
       "1198"
      ]
     },
     "execution_count": 163,
     "metadata": {},
     "output_type": "execute_result"
    }
   ],
   "source": [
    "len(X)"
   ]
  },
  {
   "cell_type": "code",
   "execution_count": 185,
   "metadata": {},
   "outputs": [],
   "source": [
    "X_sample = X.sample(n=600) #random state"
   ]
  },
  {
   "cell_type": "code",
   "execution_count": 186,
   "metadata": {},
   "outputs": [
    {
     "data": {
      "text/plain": [
       "600"
      ]
     },
     "execution_count": 186,
     "metadata": {},
     "output_type": "execute_result"
    }
   ],
   "source": [
    "len(X_sample)"
   ]
  },
  {
   "cell_type": "code",
   "execution_count": 187,
   "metadata": {},
   "outputs": [
    {
     "data": {
      "text/html": [
       "<div>\n",
       "<style scoped>\n",
       "    .dataframe tbody tr th:only-of-type {\n",
       "        vertical-align: middle;\n",
       "    }\n",
       "\n",
       "    .dataframe tbody tr th {\n",
       "        vertical-align: top;\n",
       "    }\n",
       "\n",
       "    .dataframe thead th {\n",
       "        text-align: right;\n",
       "    }\n",
       "</style>\n",
       "<table border=\"1\" class=\"dataframe\">\n",
       "  <thead>\n",
       "    <tr style=\"text-align: right;\">\n",
       "      <th></th>\n",
       "      <th>text</th>\n",
       "      <th>category</th>\n",
       "      <th>category_name</th>\n",
       "    </tr>\n",
       "  </thead>\n",
       "  <tbody>\n",
       "    <tr>\n",
       "      <th>561</th>\n",
       "      <td>back when you actually had to sing.</td>\n",
       "      <td>1</td>\n",
       "      <td>not nostalgia</td>\n",
       "    </tr>\n",
       "    <tr>\n",
       "      <th>260</th>\n",
       "      <td>The first time I managed to gather enough mone...</td>\n",
       "      <td>0</td>\n",
       "      <td>nostalgia</td>\n",
       "    </tr>\n",
       "    <tr>\n",
       "      <th>790</th>\n",
       "      <td>I was 10 year old and hearing her records, thi...</td>\n",
       "      <td>0</td>\n",
       "      <td>nostalgia</td>\n",
       "    </tr>\n",
       "    <tr>\n",
       "      <th>1090</th>\n",
       "      <td>All my best memories, come back clearly to me?...</td>\n",
       "      <td>0</td>\n",
       "      <td>nostalgia</td>\n",
       "    </tr>\n",
       "  </tbody>\n",
       "</table>\n",
       "</div>"
      ],
      "text/plain": [
       "                                                   text  category  \\\n",
       "561                 back when you actually had to sing.         1   \n",
       "260   The first time I managed to gather enough mone...         0   \n",
       "790   I was 10 year old and hearing her records, thi...         0   \n",
       "1090  All my best memories, come back clearly to me?...         0   \n",
       "\n",
       "      category_name  \n",
       "561   not nostalgia  \n",
       "260       nostalgia  \n",
       "790       nostalgia  \n",
       "1090      nostalgia  "
      ]
     },
     "execution_count": 187,
     "metadata": {},
     "output_type": "execute_result"
    }
   ],
   "source": [
    "X_sample[0:4]"
   ]
  },
  {
   "cell_type": "code",
   "execution_count": 188,
   "metadata": {},
   "outputs": [],
   "source": [
    "import matplotlib.pyplot as plt\n",
    "%matplotlib inline"
   ]
  },
  {
   "cell_type": "code",
   "execution_count": 189,
   "metadata": {},
   "outputs": [
    {
     "data": {
      "text/plain": [
       "['nostalgia', 'not nostalgia']"
      ]
     },
     "execution_count": 189,
     "metadata": {},
     "output_type": "execute_result"
    }
   ],
   "source": [
    "categories"
   ]
  },
  {
   "cell_type": "code",
   "execution_count": 190,
   "metadata": {},
   "outputs": [
    {
     "name": "stdout",
     "output_type": "stream",
     "text": [
      "['Solarize_Light2', '_classic_test_patch', '_mpl-gallery', '_mpl-gallery-nogrid', 'bmh', 'classic', 'dark_background', 'fast', 'fivethirtyeight', 'ggplot', 'grayscale', 'seaborn-v0_8', 'seaborn-v0_8-bright', 'seaborn-v0_8-colorblind', 'seaborn-v0_8-dark', 'seaborn-v0_8-dark-palette', 'seaborn-v0_8-darkgrid', 'seaborn-v0_8-deep', 'seaborn-v0_8-muted', 'seaborn-v0_8-notebook', 'seaborn-v0_8-paper', 'seaborn-v0_8-pastel', 'seaborn-v0_8-poster', 'seaborn-v0_8-talk', 'seaborn-v0_8-ticks', 'seaborn-v0_8-white', 'seaborn-v0_8-whitegrid', 'tableau-colorblind10']\n"
     ]
    }
   ],
   "source": [
    "print(plt.style.available)"
   ]
  },
  {
   "cell_type": "code",
   "execution_count": 191,
   "metadata": {},
   "outputs": [
    {
     "name": "stdout",
     "output_type": "stream",
     "text": [
      "category_name\n",
      "nostalgia        602\n",
      "not nostalgia    596\n",
      "Name: count, dtype: int64\n"
     ]
    },
    {
     "data": {
      "text/plain": [
       "<Axes: title={'center': 'Category distribution'}, xlabel='category_name'>"
      ]
     },
     "execution_count": 191,
     "metadata": {},
     "output_type": "execute_result"
    },
    {
     "data": {
      "image/png": "[encoded data removed]",
      "text/plain": [
       "<Figure size 800x300 with 1 Axes>"
      ]
     },
     "metadata": {},
     "output_type": "display_data"
    }
   ],
   "source": [
    "print(X.category_name.value_counts())\n",
    "plt.style.use('_mpl-gallery')\n",
    "# plot barchart for X\n",
    "X.category_name.value_counts().plot(kind = 'bar', # 設定圖表為柱狀圖\n",
    "                                    title = 'Category distribution',  # 設置標題\n",
    "                                    ylim = [0, 700],   # 將 x 軸的標籤旋轉角度設為 0     \n",
    "                                    rot = 0, fontsize = 11, figsize = (8,3))  #設置圖表大小為 8x3 英吋"
   ]
  },
  {
   "cell_type": "code",
   "execution_count": 193,
   "metadata": {},
   "outputs": [
    {
     "name": "stdout",
     "output_type": "stream",
     "text": [
      "category_name\n",
      "nostalgia        306\n",
      "not nostalgia    294\n",
      "Name: count, dtype: int64\n",
      "category_name\n",
      "nostalgia        306\n",
      "not nostalgia    294\n",
      "Name: count, dtype: int64\n"
     ]
    },
    {
     "data": {
      "text/plain": [
       "<Axes: title={'center': 'Category distribution'}, xlabel='category_name'>"
      ]
     },
     "execution_count": 193,
     "metadata": {},
     "output_type": "execute_result"
    },
    {
     "data": {
      "image/png": "[encoded data removed]",
      "text/plain": [
       "<Figure size 800x300 with 1 Axes>"
      ]
     },
     "metadata": {},
     "output_type": "display_data"
    }
   ],
   "source": [
    "print(X_sample.category_name.value_counts())\n",
    "\n",
    "upper_bound = max(X_sample.category_name.value_counts() + 50)\n",
    "print(X_sample.category_name.value_counts())\n",
    "\n",
    "X_sample.category_name.value_counts().plot(kind = 'bar',\n",
    "                                           title = 'Category distribution',\n",
    "                                           ylim = [0, upper_bound],\n",
    "                                           rot = 0, fontsize = 12, figsize = (8,3))"
   ]
  },
  {
   "cell_type": "code",
   "execution_count": 194,
   "metadata": {},
   "outputs": [
    {
     "name": "stdout",
     "output_type": "stream",
     "text": [
      "category_name\n",
      "nostalgia        602\n",
      "not nostalgia    596\n",
      "Name: count, dtype: int64\n",
      "category_name\n",
      "nostalgia        306\n",
      "not nostalgia    294\n",
      "Name: count, dtype: int64\n"
     ]
    },
    {
     "data": {
      "text/plain": [
       "<Axes: title={'center': 'Category distribution'}, xlabel='category_name'>"
      ]
     },
     "execution_count": 194,
     "metadata": {},
     "output_type": "execute_result"
    },
    {
     "data": {
      "image/png": "[encoded data removed]",
      "text/plain": [
       "<Figure size 800x500 with 1 Axes>"
      ]
     },
     "metadata": {},
     "output_type": "display_data"
    }
   ],
   "source": [
    "X_counts = X['category_name'].value_counts().sort_values(ascending=False)\n",
    "print(X.category_name.value_counts())\n",
    "X_sample_counts = X_sample['category_name'].value_counts().sort_values(ascending=False)\n",
    "print(X_sample.category_name.value_counts())\n",
    "\n",
    "combine = pd.DataFrame({'X': X_counts, 'X_sample': X_sample_counts})\n",
    "combine = combine.sort_values(by='X', ascending=False)\n",
    "\n",
    "combine.plot(kind='bar', \n",
    "               title='Category distribution',\n",
    "               ylim=[0, 700],\n",
    "               rot=0,\n",
    "               fontsize=11,\n",
    "               figsize=(8, 5),\n",
    "               color=['blue', 'orange']\n",
    "               )"
   ]
  },
  {
   "cell_type": "code",
   "execution_count": 195,
   "metadata": {},
   "outputs": [
    {
     "name": "stderr",
     "output_type": "stream",
     "text": [
      "[nltk_data] Downloading package punkt to\n",
      "[nltk_data]     C:\\Users\\User\\AppData\\Roaming\\nltk_data...\n",
      "[nltk_data]   Package punkt is already up-to-date!\n"
     ]
    },
    {
     "name": "stdout",
     "output_type": "stream",
     "text": [
      "showing info https://raw.githubusercontent.com/nltk/nltk_data/gh-pages/index.xml\n"
     ]
    },
    {
     "data": {
      "text/plain": [
       "True"
      ]
     },
     "execution_count": 195,
     "metadata": {},
     "output_type": "execute_result"
    }
   ],
   "source": [
    "import nltk\n",
    "nltk.download('punkt')\n",
    "nltk.download()"
   ]
  },
  {
   "cell_type": "code",
   "execution_count": 196,
   "metadata": {},
   "outputs": [],
   "source": [
    "X['unigrams'] = X['text'].apply(lambda x: dmh.tokenize_text(x))"
   ]
  },
  {
   "cell_type": "code",
   "execution_count": 197,
   "metadata": {},
   "outputs": [
    {
     "data": {
      "text/plain": [
       "0    [Perception, of, death, ,, birth, ,, sorrow, ,...\n",
       "1    [One, of, those, Classic, (, and, there, were,...\n",
       "2     [So, many, memories, in, each, and, every, song]\n",
       "3    [Was, it, in, 1968, when, Engelbert, released,...\n",
       "Name: unigrams, dtype: object"
      ]
     },
     "execution_count": 197,
     "metadata": {},
     "output_type": "execute_result"
    }
   ],
   "source": [
    "X[0:4][\"unigrams\"]"
   ]
  },
  {
   "cell_type": "code",
   "execution_count": 198,
   "metadata": {},
   "outputs": [
    {
     "data": {
      "text/html": [
       "<div>\n",
       "<style scoped>\n",
       "    .dataframe tbody tr th:only-of-type {\n",
       "        vertical-align: middle;\n",
       "    }\n",
       "\n",
       "    .dataframe tbody tr th {\n",
       "        vertical-align: top;\n",
       "    }\n",
       "\n",
       "    .dataframe thead th {\n",
       "        text-align: right;\n",
       "    }\n",
       "</style>\n",
       "<table border=\"1\" class=\"dataframe\">\n",
       "  <thead>\n",
       "    <tr style=\"text-align: right;\">\n",
       "      <th></th>\n",
       "      <th>text</th>\n",
       "      <th>category</th>\n",
       "      <th>category_name</th>\n",
       "      <th>unigrams</th>\n",
       "    </tr>\n",
       "  </thead>\n",
       "  <tbody>\n",
       "    <tr>\n",
       "      <th>0</th>\n",
       "      <td>Perception of death, birth, sorrow, suffering,...</td>\n",
       "      <td>1</td>\n",
       "      <td>not nostalgia</td>\n",
       "      <td>[Perception, of, death, ,, birth, ,, sorrow, ,...</td>\n",
       "    </tr>\n",
       "    <tr>\n",
       "      <th>1</th>\n",
       "      <td>One of those Classic (and there were so many o...</td>\n",
       "      <td>1</td>\n",
       "      <td>not nostalgia</td>\n",
       "      <td>[One, of, those, Classic, (, and, there, were,...</td>\n",
       "    </tr>\n",
       "    <tr>\n",
       "      <th>2</th>\n",
       "      <td>So many memories in each and every song</td>\n",
       "      <td>0</td>\n",
       "      <td>nostalgia</td>\n",
       "      <td>[So, many, memories, in, each, and, every, song]</td>\n",
       "    </tr>\n",
       "    <tr>\n",
       "      <th>3</th>\n",
       "      <td>Was it in 1968 when Engelbert released it?  I ...</td>\n",
       "      <td>0</td>\n",
       "      <td>nostalgia</td>\n",
       "      <td>[Was, it, in, 1968, when, Engelbert, released,...</td>\n",
       "    </tr>\n",
       "  </tbody>\n",
       "</table>\n",
       "</div>"
      ],
      "text/plain": [
       "                                                text  category  category_name  \\\n",
       "0  Perception of death, birth, sorrow, suffering,...         1  not nostalgia   \n",
       "1  One of those Classic (and there were so many o...         1  not nostalgia   \n",
       "2            So many memories in each and every song         0      nostalgia   \n",
       "3  Was it in 1968 when Engelbert released it?  I ...         0      nostalgia   \n",
       "\n",
       "                                            unigrams  \n",
       "0  [Perception, of, death, ,, birth, ,, sorrow, ,...  \n",
       "1  [One, of, those, Classic, (, and, there, were,...  \n",
       "2   [So, many, memories, in, each, and, every, song]  \n",
       "3  [Was, it, in, 1968, when, Engelbert, released,...  "
      ]
     },
     "execution_count": 198,
     "metadata": {},
     "output_type": "execute_result"
    }
   ],
   "source": [
    "X[0:4]"
   ]
  },
  {
   "cell_type": "code",
   "execution_count": 204,
   "metadata": {},
   "outputs": [
    {
     "data": {
      "text/plain": [
       "[['Perception',\n",
       "  'of',\n",
       "  'death',\n",
       "  ',',\n",
       "  'birth',\n",
       "  ',',\n",
       "  'sorrow',\n",
       "  ',',\n",
       "  'suffering',\n",
       "  ',',\n",
       "  'old',\n",
       "  'age']]"
      ]
     },
     "execution_count": 204,
     "metadata": {},
     "output_type": "execute_result"
    }
   ],
   "source": [
    "#這行程式碼的作用是將 X DataFrame 中第一行的 unigrams 欄位值轉換成列表。\n",
    "list(X[0:1]['unigrams'])"
   ]
  },
  {
   "cell_type": "code",
   "execution_count": 205,
   "metadata": {},
   "outputs": [],
   "source": [
    "from sklearn.feature_extraction.text import TfidfVectorizer\n",
    "import pandas as pd"
   ]
  },
  {
   "cell_type": "code",
   "execution_count": 209,
   "metadata": {},
   "outputs": [
    {
     "name": "stdout",
     "output_type": "stream",
     "text": [
      "TF-IDF 矩陣形狀: (1198, 3327)\n"
     ]
    }
   ],
   "source": [
    "from sklearn.feature_extraction.text import TfidfVectorizer\n",
    "\n",
    "# Initialize the TfidfVectorizer\n",
    "vectorizer = TfidfVectorizer()\n",
    "\n",
    "# Transform the 'text' column into a TF-IDF matrix\n",
    "X_tfidf = vectorizer.fit_transform(X.text)\n",
    "\n",
    "vectorizer.get_feature_names_out()\n",
    "\n",
    "print(\"TF-IDF 矩陣形狀:\", X_tfidf.shape)  # 查看文件數和詞彙數"
   ]
  },
  {
   "cell_type": "code",
   "execution_count": 211,
   "metadata": {},
   "outputs": [
    {
     "data": {
      "text/plain": [
       "'fond'"
      ]
     },
     "execution_count": 211,
     "metadata": {},
     "output_type": "execute_result"
    }
   ],
   "source": [
    "vectorizer.get_feature_names_out()[1197]"
   ]
  },
  {
   "cell_type": "code",
   "execution_count": 213,
   "metadata": {},
   "outputs": [
    {
     "data": {
      "text/plain": [
       "['perception', 'of', 'death', 'birth', 'sorrow', 'suffering', 'old', 'age']"
      ]
     },
     "execution_count": 213,
     "metadata": {},
     "output_type": "execute_result"
    }
   ],
   "source": [
    "analyze = vectorizer.build_analyzer()\n",
    "analyze(X.text[0])"
   ]
  },
  {
   "cell_type": "code",
   "execution_count": 215,
   "metadata": {},
   "outputs": [
    {
     "data": {
      "text/plain": [
       "(1198, 3327)"
      ]
     },
     "execution_count": 215,
     "metadata": {},
     "output_type": "execute_result"
    }
   ],
   "source": [
    "X_tfidf.shape"
   ]
  },
  {
   "cell_type": "code",
   "execution_count": 217,
   "metadata": {},
   "outputs": [
    {
     "data": {
      "text/plain": [
       "array(['00', '000', '045', '07', '10', '100', '10m', '11', '12', '13'],\n",
       "      dtype=object)"
      ]
     },
     "execution_count": 217,
     "metadata": {},
     "output_type": "execute_result"
    }
   ],
   "source": [
    "vectorizer.get_feature_names_out()[0:10]"
   ]
  },
  {
   "cell_type": "code",
   "execution_count": 218,
   "metadata": {},
   "outputs": [
    {
     "data": {
      "text/plain": [
       "array([[0.        , 0.        , 0.        , 0.        , 0.        ,\n",
       "        0.        , 0.        , 0.        , 0.        , 0.        ,\n",
       "        0.        , 0.        , 0.        , 0.        , 0.        ,\n",
       "        0.        , 0.        , 0.        , 0.        , 0.        ,\n",
       "        0.        , 0.        , 0.        , 0.        , 0.        ,\n",
       "        0.        , 0.        , 0.        , 0.        , 0.        ,\n",
       "        0.        , 0.        , 0.        , 0.        , 0.        ,\n",
       "        0.        , 0.        , 0.        , 0.        , 0.        ,\n",
       "        0.        , 0.        , 0.        , 0.        , 0.        ,\n",
       "        0.        , 0.        , 0.        , 0.        , 0.        ,\n",
       "        0.        , 0.        , 0.        , 0.        , 0.        ,\n",
       "        0.        , 0.        , 0.        , 0.        , 0.        ,\n",
       "        0.        , 0.        , 0.        , 0.        , 0.        ,\n",
       "        0.        , 0.        , 0.        , 0.        , 0.        ,\n",
       "        0.        , 0.        , 0.        , 0.        , 0.        ,\n",
       "        0.        , 0.        , 0.        , 0.        , 0.        ,\n",
       "        0.        , 0.        , 0.        , 0.        , 0.        ,\n",
       "        0.        , 0.        , 0.        , 0.        , 0.        ,\n",
       "        0.        , 0.        , 0.        , 0.        , 0.        ,\n",
       "        0.        , 0.        , 0.        , 0.        , 0.        ],\n",
       "       [0.        , 0.        , 0.        , 0.        , 0.        ,\n",
       "        0.        , 0.        , 0.        , 0.        , 0.        ,\n",
       "        0.        , 0.        , 0.        , 0.        , 0.        ,\n",
       "        0.        , 0.        , 0.        , 0.        , 0.        ,\n",
       "        0.        , 0.        , 0.        , 0.        , 0.        ,\n",
       "        0.        , 0.        , 0.        , 0.        , 0.        ,\n",
       "        0.        , 0.        , 0.        , 0.        , 0.        ,\n",
       "        0.        , 0.        , 0.        , 0.        , 0.        ,\n",
       "        0.        , 0.        , 0.        , 0.        , 0.        ,\n",
       "        0.        , 0.        , 0.        , 0.        , 0.        ,\n",
       "        0.        , 0.        , 0.        , 0.        , 0.        ,\n",
       "        0.        , 0.        , 0.        , 0.        , 0.        ,\n",
       "        0.        , 0.        , 0.        , 0.        , 0.        ,\n",
       "        0.        , 0.        , 0.        , 0.        , 0.        ,\n",
       "        0.        , 0.        , 0.        , 0.        , 0.        ,\n",
       "        0.        , 0.        , 0.        , 0.        , 0.        ,\n",
       "        0.        , 0.        , 0.        , 0.        , 0.        ,\n",
       "        0.        , 0.        , 0.        , 0.        , 0.        ,\n",
       "        0.        , 0.        , 0.        , 0.        , 0.        ,\n",
       "        0.        , 0.        , 0.        , 0.        , 0.        ],\n",
       "       [0.        , 0.        , 0.        , 0.        , 0.        ,\n",
       "        0.        , 0.        , 0.        , 0.        , 0.        ,\n",
       "        0.        , 0.        , 0.        , 0.        , 0.        ,\n",
       "        0.        , 0.        , 0.        , 0.        , 0.        ,\n",
       "        0.        , 0.        , 0.        , 0.        , 0.        ,\n",
       "        0.        , 0.        , 0.        , 0.        , 0.        ,\n",
       "        0.        , 0.        , 0.        , 0.        , 0.        ,\n",
       "        0.        , 0.        , 0.        , 0.        , 0.        ,\n",
       "        0.        , 0.        , 0.        , 0.        , 0.        ,\n",
       "        0.        , 0.        , 0.        , 0.        , 0.        ,\n",
       "        0.        , 0.        , 0.        , 0.        , 0.        ,\n",
       "        0.        , 0.        , 0.        , 0.        , 0.        ,\n",
       "        0.        , 0.        , 0.        , 0.        , 0.        ,\n",
       "        0.        , 0.        , 0.        , 0.        , 0.        ,\n",
       "        0.        , 0.        , 0.        , 0.        , 0.        ,\n",
       "        0.        , 0.        , 0.        , 0.        , 0.        ,\n",
       "        0.        , 0.        , 0.        , 0.        , 0.        ,\n",
       "        0.        , 0.        , 0.        , 0.        , 0.        ,\n",
       "        0.        , 0.        , 0.        , 0.        , 0.        ,\n",
       "        0.        , 0.        , 0.        , 0.        , 0.        ],\n",
       "       [0.        , 0.        , 0.        , 0.        , 0.        ,\n",
       "        0.        , 0.        , 0.        , 0.        , 0.        ,\n",
       "        0.        , 0.        , 0.        , 0.        , 0.        ,\n",
       "        0.        , 0.        , 0.        , 0.        , 0.        ,\n",
       "        0.        , 0.        , 0.        , 0.        , 0.        ,\n",
       "        0.        , 0.        , 0.        , 0.        , 0.        ,\n",
       "        0.        , 0.        , 0.        , 0.        , 0.        ,\n",
       "        0.        , 0.        , 0.        , 0.35176261, 0.        ,\n",
       "        0.        , 0.        , 0.        , 0.        , 0.        ,\n",
       "        0.        , 0.        , 0.        , 0.        , 0.        ,\n",
       "        0.        , 0.        , 0.        , 0.        , 0.        ,\n",
       "        0.        , 0.        , 0.        , 0.        , 0.        ,\n",
       "        0.        , 0.        , 0.        , 0.        , 0.        ,\n",
       "        0.        , 0.        , 0.        , 0.        , 0.        ,\n",
       "        0.        , 0.        , 0.        , 0.        , 0.        ,\n",
       "        0.        , 0.        , 0.        , 0.        , 0.        ,\n",
       "        0.        , 0.        , 0.        , 0.        , 0.        ,\n",
       "        0.        , 0.        , 0.        , 0.        , 0.        ,\n",
       "        0.        , 0.        , 0.        , 0.        , 0.        ,\n",
       "        0.        , 0.        , 0.        , 0.        , 0.        ],\n",
       "       [0.        , 0.        , 0.        , 0.        , 0.        ,\n",
       "        0.        , 0.        , 0.        , 0.        , 0.        ,\n",
       "        0.        , 0.        , 0.        , 0.        , 0.        ,\n",
       "        0.        , 0.        , 0.        , 0.        , 0.        ,\n",
       "        0.        , 0.        , 0.        , 0.        , 0.        ,\n",
       "        0.        , 0.        , 0.        , 0.        , 0.        ,\n",
       "        0.        , 0.        , 0.        , 0.        , 0.        ,\n",
       "        0.        , 0.        , 0.        , 0.        , 0.        ,\n",
       "        0.        , 0.        , 0.        , 0.        , 0.        ,\n",
       "        0.        , 0.        , 0.        , 0.        , 0.        ,\n",
       "        0.        , 0.        , 0.        , 0.        , 0.        ,\n",
       "        0.        , 0.        , 0.        , 0.        , 0.        ,\n",
       "        0.        , 0.        , 0.        , 0.        , 0.        ,\n",
       "        0.        , 0.        , 0.        , 0.        , 0.        ,\n",
       "        0.        , 0.        , 0.        , 0.        , 0.        ,\n",
       "        0.        , 0.        , 0.        , 0.        , 0.        ,\n",
       "        0.        , 0.        , 0.        , 0.        , 0.        ,\n",
       "        0.        , 0.        , 0.        , 0.        , 0.        ,\n",
       "        0.        , 0.        , 0.        , 0.        , 0.        ,\n",
       "        0.        , 0.        , 0.        , 0.        , 0.        ]])"
      ]
     },
     "execution_count": 218,
     "metadata": {},
     "output_type": "execute_result"
    }
   ],
   "source": [
    "X_tfidf[0:5, 0:100].toarray()"
   ]
  },
  {
   "cell_type": "code",
   "execution_count": 219,
   "metadata": {},
   "outputs": [],
   "source": [
    "plot_x = [\"term_\"+str(i) for i in vectorizer.get_feature_names_out()[0:20]]"
   ]
  },
  {
   "cell_type": "code",
   "execution_count": 220,
   "metadata": {},
   "outputs": [],
   "source": [
    "plot_y = [\"doc_\"+ str(i) for i in list(X.index)[0:20]]"
   ]
  },
  {
   "cell_type": "code",
   "execution_count": 222,
   "metadata": {},
   "outputs": [
    {
     "data": {
      "text/plain": [
       "array([[0., 0., 0., 0., 0., 0., 0., 0., 0., 0., 0., 0., 0., 0., 0., 0.,\n",
       "        0., 0., 0., 0.],\n",
       "       [0., 0., 0., 0., 0., 0., 0., 0., 0., 0., 0., 0., 0., 0., 0., 0.,\n",
       "        0., 0., 0., 0.],\n",
       "       [0., 0., 0., 0., 0., 0., 0., 0., 0., 0., 0., 0., 0., 0., 0., 0.,\n",
       "        0., 0., 0., 0.],\n",
       "       [0., 0., 0., 0., 0., 0., 0., 0., 0., 0., 0., 0., 0., 0., 0., 0.,\n",
       "        0., 0., 0., 0.],\n",
       "       [0., 0., 0., 0., 0., 0., 0., 0., 0., 0., 0., 0., 0., 0., 0., 0.,\n",
       "        0., 0., 0., 0.],\n",
       "       [0., 0., 0., 0., 0., 0., 0., 0., 0., 0., 0., 0., 0., 0., 0., 0.,\n",
       "        0., 0., 0., 0.],\n",
       "       [0., 0., 0., 0., 0., 0., 0., 0., 0., 0., 0., 0., 0., 0., 0., 0.,\n",
       "        0., 0., 0., 0.],\n",
       "       [0., 0., 0., 0., 0., 0., 0., 0., 0., 0., 0., 0., 0., 0., 0., 0.,\n",
       "        0., 0., 0., 0.],\n",
       "       [0., 0., 0., 0., 0., 0., 0., 0., 0., 0., 0., 0., 0., 0., 0., 0.,\n",
       "        0., 0., 0., 0.],\n",
       "       [0., 0., 0., 0., 0., 0., 0., 0., 0., 0., 0., 0., 0., 0., 0., 0.,\n",
       "        0., 0., 0., 0.],\n",
       "       [0., 0., 0., 0., 0., 0., 0., 0., 0., 0., 0., 0., 0., 0., 0., 0.,\n",
       "        0., 0., 0., 0.],\n",
       "       [0., 0., 0., 0., 0., 0., 0., 0., 0., 0., 0., 0., 0., 0., 0., 0.,\n",
       "        0., 0., 0., 0.],\n",
       "       [0., 0., 0., 0., 0., 0., 0., 0., 0., 0., 0., 0., 0., 0., 0., 0.,\n",
       "        0., 0., 0., 0.],\n",
       "       [0., 0., 0., 0., 0., 0., 0., 0., 0., 0., 0., 0., 0., 0., 0., 0.,\n",
       "        0., 0., 0., 0.],\n",
       "       [0., 0., 0., 0., 0., 0., 0., 0., 0., 0., 0., 0., 0., 0., 0., 0.,\n",
       "        0., 0., 0., 0.],\n",
       "       [0., 0., 0., 0., 0., 0., 0., 0., 0., 0., 0., 0., 0., 0., 0., 0.,\n",
       "        0., 0., 0., 0.],\n",
       "       [0., 0., 0., 0., 0., 0., 0., 0., 0., 0., 0., 0., 0., 0., 0., 0.,\n",
       "        0., 0., 0., 0.],\n",
       "       [0., 0., 0., 0., 0., 0., 0., 0., 0., 0., 0., 0., 0., 0., 0., 0.,\n",
       "        0., 0., 0., 0.],\n",
       "       [0., 0., 0., 0., 0., 0., 0., 0., 0., 0., 0., 0., 0., 0., 0., 0.,\n",
       "        0., 0., 0., 0.],\n",
       "       [0., 0., 0., 0., 0., 0., 0., 0., 0., 0., 0., 0., 0., 0., 0., 0.,\n",
       "        0., 0., 0., 0.]])"
      ]
     },
     "execution_count": 222,
     "metadata": {},
     "output_type": "execute_result"
    }
   ],
   "source": [
    "plot_z = X_tfidf[0:20, 0:20].toarray() #X_counts[how many documents, how many terms]\n",
    "plot_z"
   ]
  },
  {
   "cell_type": "code",
   "execution_count": 223,
   "metadata": {},
   "outputs": [
    {
     "data": {
      "image/png": "[encoded data removed]",
      "text/plain": [
       "<Figure size 900x700 with 2 Axes>"
      ]
     },
     "metadata": {},
     "output_type": "display_data"
    }
   ],
   "source": [
    "import seaborn as sns\n",
    "\n",
    "df_todraw = pd.DataFrame(plot_z, columns = plot_x, index = plot_y)\n",
    "plt.subplots(figsize=(9, 7))\n",
    "ax = sns.heatmap(df_todraw,\n",
    "                 cmap=\"PuRd\",\n",
    "                 vmin=0, vmax=1, annot=True)"
   ]
  },
  {
   "cell_type": "code",
   "execution_count": 225,
   "metadata": {},
   "outputs": [],
   "source": [
    "term_frequencies = []\n",
    "for j in range(0, X_tfidf.shape[1]):\n",
    "    # 計算 TF-IDF 矩陣中每個詞的總和\n",
    "    term_frequencies.append(sum(X_tfidf[:, j].toarray()))"
   ]
  },
  {
   "cell_type": "code",
   "execution_count": 228,
   "metadata": {},
   "outputs": [],
   "source": [
    "import numpy as np\n",
    "term_frequencies = np.asarray(X_tfidf.sum(axis=0))[0]"
   ]
  },
  {
   "cell_type": "code",
   "execution_count": 229,
   "metadata": {},
   "outputs": [
    {
     "data": {
      "text/plain": [
       "np.float64(0.33659187250697536)"
      ]
     },
     "execution_count": 229,
     "metadata": {},
     "output_type": "execute_result"
    }
   ],
   "source": [
    "term_frequencies[0]"
   ]
  },
  {
   "cell_type": "code",
   "execution_count": 230,
   "metadata": {},
   "outputs": [
    {
     "name": "stderr",
     "output_type": "stream",
     "text": [
      "C:\\Users\\User\\AppData\\Local\\Temp\\ipykernel_7028\\2605825305.py:11: UserWarning: set_ticklabels() should only be used with a fixed number of ticks, i.e. after set_ticks() or using a FixedLocator.\n",
      "  g.set_xticklabels(vectorizer.get_feature_names_out()[:300], rotation=90)\n"
     ]
    },
    {
     "data": {
      "image/png": "[encoded data removed]",
      "text/plain": [
       "<Figure size 10000x1000 with 1 Axes>"
      ]
     },
     "metadata": {},
     "output_type": "display_data"
    }
   ],
   "source": [
    "term_frequencies_tfidf = np.asarray(X_tfidf.sum(axis=0)).flatten()\n",
    "\n",
    "# 設定圖表大小\n",
    "plt.subplots(figsize=(100, 10))\n",
    "\n",
    "# 繪製條形圖，x 軸為詞語（取前 300 個），y 軸為權重總和（取前 300 個）\n",
    "g = sns.barplot(x=vectorizer.get_feature_names_out()[:300], \n",
    "                y=term_frequencies_tfidf[:300])\n",
    "\n",
    "# 設置 x 軸標籤，並將標籤旋轉 90 度\n",
    "g.set_xticklabels(vectorizer.get_feature_names_out()[:300], rotation=90)\n",
    "\n",
    "# 顯示圖表\n",
    "plt.show()"
   ]
  },
  {
   "cell_type": "code",
   "execution_count": 231,
   "metadata": {},
   "outputs": [
    {
     "data": {
      "application/vnd.plotly.v1+json": {
       "config": {
        "plotlyServerURL": "https://plot.ly"
       },
       "data": [
        {
         "alignmentgroup": "True",
         "hovertemplate": "Term=%{x}<br>TF-IDF Weight=%{y}<extra></extra>",
         "legendgroup": "",
         "marker": {
          "color": "#636efa",
          "pattern": {
           "shape": ""
          }
         },
         "name": "",
         "offsetgroup": "",
         "orientation": "v",
         "showlegend": false,
         "textposition": "auto",
         "type": "bar",
         "x": [
          "00",
          "000",
          "045",
          "07",
          "10",
          "100",
          "10m",
          "11",
          "12",
          "13",
          "14",
          "15",
          "150",
          "16",
          "16years",
          "17",
          "17th",
          "18",
          "19",
          "1927",
          "1930",
          "1930s",
          "1950",
          "1950s",
          "1952",
          "1954",
          "1955",
          "1956",
          "1957",
          "1958",
          "1960",
          "1960s",
          "1962",
          "1963",
          "1964",
          "1965",
          "1966",
          "1967",
          "1968",
          "1969",
          "1970",
          "1970s",
          "1973",
          "1974",
          "1975",
          "1976",
          "1977",
          "1979",
          "1980",
          "1981",
          "1985",
          "1987",
          "1988",
          "1989",
          "1990",
          "1992",
          "1998",
          "1st",
          "20",
          "2000s",
          "2006",
          "2009",
          "2010",
          "2014",
          "2015",
          "2016",
          "2017",
          "2018",
          "2019",
          "20s",
          "20th",
          "21",
          "21st",
          "21yr",
          "22",
          "22nd",
          "23",
          "25",
          "26",
          "27",
          "28",
          "29",
          "29th",
          "2nd",
          "30",
          "30s",
          "30th",
          "31",
          "32",
          "34",
          "36",
          "37",
          "3pm",
          "40",
          "400",
          "40s",
          "40th",
          "40years",
          "40yrs",
          "42",
          "45",
          "45rpm",
          "45s",
          "46",
          "47",
          "48am",
          "49",
          "50",
          "500",
          "50s",
          "51",
          "53",
          "55",
          "56",
          "57",
          "58",
          "59",
          "60",
          "60s",
          "60th",
          "60yrs",
          "61",
          "62",
          "63",
          "64",
          "66",
          "67",
          "68",
          "6pm",
          "6rtr",
          "6th",
          "70",
          "70s",
          "71",
          "72",
          "73",
          "74",
          "75",
          "76",
          "78",
          "80",
          "80s",
          "82",
          "86",
          "88",
          "89",
          "8th",
          "90",
          "90s",
          "94",
          "95",
          "abandant",
          "ability",
          "able",
          "about",
          "above",
          "abroad",
          "absolutely",
          "absorbed",
          "accent",
          "accepting",
          "accident",
          "accurate",
          "across",
          "act",
          "actors",
          "actress",
          "actresses",
          "actually",
          "adaline",
          "add",
          "addition",
          "adds",
          "adele",
          "admit",
          "adorable",
          "adore",
          "adult",
          "adults",
          "advance",
          "advice",
          "affair",
          "affluence",
          "afford",
          "affordable",
          "afn",
          "afraid",
          "africa",
          "after",
          "afternoon",
          "afterwards",
          "afterwords",
          "again",
          "against",
          "age",
          "aged",
          "ages",
          "ago",
          "agree",
          "ah",
          "ahead",
          "ain",
          "aint",
          "air",
          "aisle",
          "alabama",
          "alan",
          "album",
          "albums",
          "alike",
          "alive",
          "all",
          "allergies",
          "allowance",
          "almost",
          "alone",
          "along",
          "alongs",
          "aloud",
          "already",
          "alright",
          "also",
          "alternative",
          "although",
          "always",
          "am",
          "amazing",
          "amazingly",
          "amen",
          "america",
          "american",
          "ames",
          "among",
          "amount",
          "an",
          "and",
          "angel",
          "angels",
          "angst",
          "anniversary",
          "announcement",
          "annoying",
          "another",
          "answer",
          "anthony",
          "anti",
          "any",
          "anybody",
          "anymore",
          "anyone",
          "anything",
          "anytime",
          "anyway",
          "apart",
          "apc",
          "apologize",
          "apparently",
          "appeals",
          "appear",
          "appearances",
          "appeared",
          "appears",
          "appreciate",
          "appreciated",
          "appreciation",
          "april",
          "apt",
          "are",
          "aren",
          "arm",
          "arms",
          "army",
          "around",
          "arranged",
          "arrangement",
          "arrangements",
          "arrangers",
          "arranging",
          "art",
          "arte",
          "artist",
          "artistically",
          "artists",
          "arts",
          "as",
          "ask",
          "asked",
          "asking",
          "asleep",
          "asset",
          "assignment",
          "assume",
          "assured",
          "at",
          "ate",
          "attached",
          "attack",
          "attendance",
          "attention",
          "attraction"
         ],
         "xaxis": "x",
         "y": [
          0.33659187250697536,
          0.3171865886201387,
          0.18374311099647403,
          0.5162025972009856,
          2.8827920689408937,
          1.0162883555461968,
          0.2297785829796977,
          1.218985787855785,
          2.1460856128855212,
          1.852254828083493,
          2.8615671723839284,
          2.019420933116526,
          0.3743172052062834,
          3.355155152444054,
          0.22647055207973743,
          2.169486587432673,
          0.39433848851538966,
          1.1557919216618766,
          1.3418555187856398,
          0.30945278554746897,
          0.3761534040245579,
          0.1856296877055232,
          0.14360135114708986,
          0.5946061999952439,
          0.5340192292635183,
          0.8824839059266456,
          0.3517535574396276,
          0.16380370137293693,
          0.1893299381764143,
          0.41799896773504003,
          0.8751747428701276,
          0.5817962637079113,
          0.3991657582383361,
          2.9363190052719372,
          0.23812156768396184,
          0.5059269958751726,
          1.3560061878407297,
          0.7668799856682698,
          0.5972789064458114,
          0.2255928923902926,
          1.3422601186096523,
          0.7640543109777903,
          1.4378028291320777,
          0.5925410227364384,
          0.6339751054838761,
          1.0729891809906362,
          0.7549650535343816,
          0.3779176832601823,
          1.3790538108919368,
          0.25149179789193354,
          0.6473367141695944,
          0.8871408829529202,
          0.8012216524068487,
          0.45159540010332966,
          0.19056184457021827,
          0.2896950819559199,
          0.8066887580389893,
          0.816296959379862,
          1.997817241096175,
          0.2828392784044767,
          0.561815308104135,
          0.5124721116887889,
          0.18860667673673495,
          0.35386602540043915,
          0.46585116422659,
          0.7462598421100255,
          0.3516192758964435,
          1.7564532824750563,
          4.3564711474699,
          0.20951701128508807,
          0.2863900760471743,
          0.3922952114017907,
          0.38624155994234605,
          0.25668798882474575,
          0.5496425278981958,
          0.39600210142884407,
          0.35599109436794035,
          0.7592259033078359,
          0.24200561955353128,
          0.306069621276384,
          0.67574429365202,
          0.7382515766477922,
          0.3521576188993085,
          0.4114422817025022,
          1.0084362605533737,
          0.15940351307569953,
          0.732351462179663,
          0.262945193113914,
          0.16619082727522103,
          0.25697532550789487,
          0.2951847578166455,
          0.3632378968517238,
          0.2727456928949753,
          1.9260192689638866,
          0.18554121011690677,
          0.14819879157706123,
          0.5910714662935355,
          0.2915067483812439,
          0.36787786936607764,
          0.5424737629855987,
          0.3401183152327554,
          0.41209058472761106,
          0.37361996647517887,
          0.17365963401791543,
          0.8871177753377091,
          0.3521576188993085,
          0.3705023392135048,
          3.990150742038395,
          0.3118355766383825,
          1.3962483427218104,
          0.28062029070931227,
          0.6780432392183383,
          0.8186592500085573,
          0.8165701523343842,
          0.8557401095956281,
          0.46818615428157,
          0.27878736789865227,
          5.277289378522898,
          2.3957116965178367,
          0.30775792014203646,
          0.31330896342428594,
          0.41569644072653616,
          0.4075110089492622,
          0.41371409983787133,
          0.3690397657557344,
          0.3612575327642838,
          0.49847567666194004,
          0.33638845522511285,
          0.1950873012801053,
          0.556707908051935,
          0.5100850350274418,
          4.556540846551366,
          2.499917371748589,
          0.5546426184612285,
          0.36278098244875495,
          0.94009074526612,
          0.15940351307569953,
          0.3534570595658595,
          0.8310782349502004,
          0.15370944281909513,
          3.556348600332061,
          3.1155882643894985,
          0.22510574963931626,
          0.3213123875542512,
          0.24174029569104827,
          0.24174029569104827,
          0.14360135114708986,
          1.6440898364653136,
          0.9095901657857315,
          0.4694869381885442,
          0.16618486315365802,
          0.21815355054413055,
          0.32113844505243544,
          1.292034480731684,
          9.938544562893533,
          0.5662895180982119,
          0.308941996583677,
          2.5078437899761874,
          0.38895513892533906,
          0.3071426307317855,
          0.23933400859207776,
          0.39389903269312043,
          0.25668798882474575,
          0.9809020473055454,
          0.33296643309181995,
          0.668051144120217,
          0.9542893964939552,
          0.43453600229788075,
          2.619869512763036,
          0.2825581717730442,
          0.5940705104873523,
          0.14811616152276785,
          0.3098588413683368,
          0.3757695870191001,
          0.9919327316430842,
          0.3794267857583114,
          1.3220266203699285,
          0.23691694787125953,
          0.2562983185016769,
          0.5619056283700392,
          0.4539120832811278,
          0.41576409474365694,
          0.2630080000566444,
          0.14593338729112335,
          0.163585657864325,
          0.25055227017078363,
          0.3288886400823828,
          0.47582635772261495,
          5.4472455163111775,
          0.20597753535454327,
          0.14726809275185385,
          0.4093498836076003,
          8.435470198973501,
          0.6185848696921998,
          5.9507450988768795,
          0.42695829247763817,
          0.8083651713558296,
          6.539945499152218,
          1.5626190816332037,
          0.47743458249183623,
          0.43163007067615544,
          0.9159084735485858,
          0.370439597186413,
          0.5251778737241706,
          0.15986643665433448,
          0.14619637530553853,
          0.14811616152276785,
          2.1173406230675993,
          0.7480989210992465,
          0.21672434867302415,
          1.8828780844282145,
          21.245151130368736,
          0.33296643309181995,
          0.14619637530553853,
          3.0012786489836016,
          0.3957854071140835,
          1.961883549573343,
          0.17182616527328304,
          0.2887476471730219,
          0.993265036499563,
          0.5175824655845739,
          2.9005817533320033,
          0.14819879157706123,
          1.2770541203694303,
          17.324660724386785,
          13.302529626209266,
          5.275775711965905,
          0.30409529830910564,
          0.29938815049754003,
          0.5445034578299173,
          0.38251064117014355,
          0.7219731237504332,
          0.45094590031267984,
          0.5967986805597043,
          8.9133135037172,
          56.59493273983315,
          1.5787632501511017,
          0.13934077599576636,
          0.4473775029623903,
          0.30775792014203646,
          0.2562983185016769,
          0.2852761901940273,
          4.281690325341028,
          0.3288886400823828,
          0.38384709359629254,
          0.17978832745957404,
          4.313181429679164,
          1.6018054497294338,
          3.4514470009285265,
          3.722774250336335,
          1.9864688340687777,
          0.8704610863484232,
          0.4070398136691912,
          0.8150523874767058,
          0.15986643665433448,
          0.3402192871993613,
          0.5086370529464008,
          0.3645675490060612,
          0.42771216910546406,
          0.23295533778857325,
          0.3607696070047378,
          0.34885643630307983,
          1.9483767711386923,
          1.2367830683863128,
          0.41406861310517806,
          0.6249580165366861,
          0.2887476471730219,
          13.254453091541682,
          0.4311860093424894,
          0.2942151377435191,
          0.5972418505482906,
          0.8757525153605608,
          4.2222034456089155,
          0.2354752356093445,
          0.5066504330452977,
          0.40459426191458536,
          0.2299447233256939,
          0.23691694787125953,
          0.824066482811332,
          0.2720390189972284,
          1.5475151720956755,
          0.21672434867302415,
          2.1969239726272978,
          0.22039758329644132,
          19.175291123163348,
          1.0812168162675948,
          0.7174526283883059,
          0.7959452152488435,
          0.459171398666988,
          0.19359564498519638,
          0.3425686303839667,
          0.2852761901940273,
          0.2999621704510245,
          15.037118001855381,
          0.7447152032655007,
          0.3532748027769911,
          0.1856296877055232,
          0.14726809275185385,
          1.3212916990874561,
          0.38044358787276594
         ],
         "yaxis": "y"
        }
       ],
       "layout": {
        "barmode": "relative",
        "legend": {
         "tracegroupgap": 0
        },
        "template": {
         "data": {
          "bar": [
           {
            "error_x": {
             "color": "#2a3f5f"
            },
            "error_y": {
             "color": "#2a3f5f"
            },
            "marker": {
             "line": {
              "color": "#E5ECF6",
              "width": 0.5
             },
             "pattern": {
              "fillmode": "overlay",
              "size": 10,
              "solidity": 0.2
             }
            },
            "type": "bar"
           }
          ],
          "barpolar": [
           {
            "marker": {
             "line": {
              "color": "#E5ECF6",
              "width": 0.5
             },
             "pattern": {
              "fillmode": "overlay",
              "size": 10,
              "solidity": 0.2
             }
            },
            "type": "barpolar"
           }
          ],
          "carpet": [
           {
            "aaxis": {
             "endlinecolor": "#2a3f5f",
             "gridcolor": "white",
             "linecolor": "white",
             "minorgridcolor": "white",
             "startlinecolor": "#2a3f5f"
            },
            "baxis": {
             "endlinecolor": "#2a3f5f",
             "gridcolor": "white",
             "linecolor": "white",
             "minorgridcolor": "white",
             "startlinecolor": "#2a3f5f"
            },
            "type": "carpet"
           }
          ],
          "choropleth": [
           {
            "colorbar": {
             "outlinewidth": 0,
             "ticks": ""
            },
            "type": "choropleth"
           }
          ],
          "contour": [
           {
            "colorbar": {
             "outlinewidth": 0,
             "ticks": ""
            },
            "colorscale": [
             [
              0,
              "#0d0887"
             ],
             [
              0.1111111111111111,
              "#46039f"
             ],
             [
              0.2222222222222222,
              "#7201a8"
             ],
             [
              0.3333333333333333,
              "#9c179e"
             ],
             [
              0.4444444444444444,
              "#bd3786"
             ],
             [
              0.5555555555555556,
              "#d8576b"
             ],
             [
              0.6666666666666666,
              "#ed7953"
             ],
             [
              0.7777777777777778,
              "#fb9f3a"
             ],
             [
              0.8888888888888888,
              "#fdca26"
             ],
             [
              1,
              "#f0f921"
             ]
            ],
            "type": "contour"
           }
          ],
          "contourcarpet": [
           {
            "colorbar": {
             "outlinewidth": 0,
             "ticks": ""
            },
            "type": "contourcarpet"
           }
          ],
          "heatmap": [
           {
            "colorbar": {
             "outlinewidth": 0,
             "ticks": ""
            },
            "colorscale": [
             [
              0,
              "#0d0887"
             ],
             [
              0.1111111111111111,
              "#46039f"
             ],
             [
              0.2222222222222222,
              "#7201a8"
             ],
             [
              0.3333333333333333,
              "#9c179e"
             ],
             [
              0.4444444444444444,
              "#bd3786"
             ],
             [
              0.5555555555555556,
              "#d8576b"
             ],
             [
              0.6666666666666666,
              "#ed7953"
             ],
             [
              0.7777777777777778,
              "#fb9f3a"
             ],
             [
              0.8888888888888888,
              "#fdca26"
             ],
             [
              1,
              "#f0f921"
             ]
            ],
            "type": "heatmap"
           }
          ],
          "heatmapgl": [
           {
            "colorbar": {
             "outlinewidth": 0,
             "ticks": ""
            },
            "colorscale": [
             [
              0,
              "#0d0887"
             ],
             [
              0.1111111111111111,
              "#46039f"
             ],
             [
              0.2222222222222222,
              "#7201a8"
             ],
             [
              0.3333333333333333,
              "#9c179e"
             ],
             [
              0.4444444444444444,
              "#bd3786"
             ],
             [
              0.5555555555555556,
              "#d8576b"
             ],
             [
              0.6666666666666666,
              "#ed7953"
             ],
             [
              0.7777777777777778,
              "#fb9f3a"
             ],
             [
              0.8888888888888888,
              "#fdca26"
             ],
             [
              1,
              "#f0f921"
             ]
            ],
            "type": "heatmapgl"
           }
          ],
          "histogram": [
           {
            "marker": {
             "pattern": {
              "fillmode": "overlay",
              "size": 10,
              "solidity": 0.2
             }
            },
            "type": "histogram"
           }
          ],
          "histogram2d": [
           {
            "colorbar": {
             "outlinewidth": 0,
             "ticks": ""
            },
            "colorscale": [
             [
              0,
              "#0d0887"
             ],
             [
              0.1111111111111111,
              "#46039f"
             ],
             [
              0.2222222222222222,
              "#7201a8"
             ],
             [
              0.3333333333333333,
              "#9c179e"
             ],
             [
              0.4444444444444444,
              "#bd3786"
             ],
             [
              0.5555555555555556,
              "#d8576b"
             ],
             [
              0.6666666666666666,
              "#ed7953"
             ],
             [
              0.7777777777777778,
              "#fb9f3a"
             ],
             [
              0.8888888888888888,
              "#fdca26"
             ],
             [
              1,
              "#f0f921"
             ]
            ],
            "type": "histogram2d"
           }
          ],
          "histogram2dcontour": [
           {
            "colorbar": {
             "outlinewidth": 0,
             "ticks": ""
            },
            "colorscale": [
             [
              0,
              "#0d0887"
             ],
             [
              0.1111111111111111,
              "#46039f"
             ],
             [
              0.2222222222222222,
              "#7201a8"
             ],
             [
              0.3333333333333333,
              "#9c179e"
             ],
             [
              0.4444444444444444,
              "#bd3786"
             ],
             [
              0.5555555555555556,
              "#d8576b"
             ],
             [
              0.6666666666666666,
              "#ed7953"
             ],
             [
              0.7777777777777778,
              "#fb9f3a"
             ],
             [
              0.8888888888888888,
              "#fdca26"
             ],
             [
              1,
              "#f0f921"
             ]
            ],
            "type": "histogram2dcontour"
           }
          ],
          "mesh3d": [
           {
            "colorbar": {
             "outlinewidth": 0,
             "ticks": ""
            },
            "type": "mesh3d"
           }
          ],
          "parcoords": [
           {
            "line": {
             "colorbar": {
              "outlinewidth": 0,
              "ticks": ""
             }
            },
            "type": "parcoords"
           }
          ],
          "pie": [
           {
            "automargin": true,
            "type": "pie"
           }
          ],
          "scatter": [
           {
            "fillpattern": {
             "fillmode": "overlay",
             "size": 10,
             "solidity": 0.2
            },
            "type": "scatter"
           }
          ],
          "scatter3d": [
           {
            "line": {
             "colorbar": {
              "outlinewidth": 0,
              "ticks": ""
             }
            },
            "marker": {
             "colorbar": {
              "outlinewidth": 0,
              "ticks": ""
             }
            },
            "type": "scatter3d"
           }
          ],
          "scattercarpet": [
           {
            "marker": {
             "colorbar": {
              "outlinewidth": 0,
              "ticks": ""
             }
            },
            "type": "scattercarpet"
           }
          ],
          "scattergeo": [
           {
            "marker": {
             "colorbar": {
              "outlinewidth": 0,
              "ticks": ""
             }
            },
            "type": "scattergeo"
           }
          ],
          "scattergl": [
           {
            "marker": {
             "colorbar": {
              "outlinewidth": 0,
              "ticks": ""
             }
            },
            "type": "scattergl"
           }
          ],
          "scattermapbox": [
           {
            "marker": {
             "colorbar": {
              "outlinewidth": 0,
              "ticks": ""
             }
            },
            "type": "scattermapbox"
           }
          ],
          "scatterpolar": [
           {
            "marker": {
             "colorbar": {
              "outlinewidth": 0,
              "ticks": ""
             }
            },
            "type": "scatterpolar"
           }
          ],
          "scatterpolargl": [
           {
            "marker": {
             "colorbar": {
              "outlinewidth": 0,
              "ticks": ""
             }
            },
            "type": "scatterpolargl"
           }
          ],
          "scatterternary": [
           {
            "marker": {
             "colorbar": {
              "outlinewidth": 0,
              "ticks": ""
             }
            },
            "type": "scatterternary"
           }
          ],
          "surface": [
           {
            "colorbar": {
             "outlinewidth": 0,
             "ticks": ""
            },
            "colorscale": [
             [
              0,
              "#0d0887"
             ],
             [
              0.1111111111111111,
              "#46039f"
             ],
             [
              0.2222222222222222,
              "#7201a8"
             ],
             [
              0.3333333333333333,
              "#9c179e"
             ],
             [
              0.4444444444444444,
              "#bd3786"
             ],
             [
              0.5555555555555556,
              "#d8576b"
             ],
             [
              0.6666666666666666,
              "#ed7953"
             ],
             [
              0.7777777777777778,
              "#fb9f3a"
             ],
             [
              0.8888888888888888,
              "#fdca26"
             ],
             [
              1,
              "#f0f921"
             ]
            ],
            "type": "surface"
           }
          ],
          "table": [
           {
            "cells": {
             "fill": {
              "color": "#EBF0F8"
             },
             "line": {
              "color": "white"
             }
            },
            "header": {
             "fill": {
              "color": "#C8D4E3"
             },
             "line": {
              "color": "white"
             }
            },
            "type": "table"
           }
          ]
         },
         "layout": {
          "annotationdefaults": {
           "arrowcolor": "#2a3f5f",
           "arrowhead": 0,
           "arrowwidth": 1
          },
          "autotypenumbers": "strict",
          "coloraxis": {
           "colorbar": {
            "outlinewidth": 0,
            "ticks": ""
           }
          },
          "colorscale": {
           "diverging": [
            [
             0,
             "#8e0152"
            ],
            [
             0.1,
             "#c51b7d"
            ],
            [
             0.2,
             "#de77ae"
            ],
            [
             0.3,
             "#f1b6da"
            ],
            [
             0.4,
             "#fde0ef"
            ],
            [
             0.5,
             "#f7f7f7"
            ],
            [
             0.6,
             "#e6f5d0"
            ],
            [
             0.7,
             "#b8e186"
            ],
            [
             0.8,
             "#7fbc41"
            ],
            [
             0.9,
             "#4d9221"
            ],
            [
             1,
             "#276419"
            ]
           ],
           "sequential": [
            [
             0,
             "#0d0887"
            ],
            [
             0.1111111111111111,
             "#46039f"
            ],
            [
             0.2222222222222222,
             "#7201a8"
            ],
            [
             0.3333333333333333,
             "#9c179e"
            ],
            [
             0.4444444444444444,
             "#bd3786"
            ],
            [
             0.5555555555555556,
             "#d8576b"
            ],
            [
             0.6666666666666666,
             "#ed7953"
            ],
            [
             0.7777777777777778,
             "#fb9f3a"
            ],
            [
             0.8888888888888888,
             "#fdca26"
            ],
            [
             1,
             "#f0f921"
            ]
           ],
           "sequentialminus": [
            [
             0,
             "#0d0887"
            ],
            [
             0.1111111111111111,
             "#46039f"
            ],
            [
             0.2222222222222222,
             "#7201a8"
            ],
            [
             0.3333333333333333,
             "#9c179e"
            ],
            [
             0.4444444444444444,
             "#bd3786"
            ],
            [
             0.5555555555555556,
             "#d8576b"
            ],
            [
             0.6666666666666666,
             "#ed7953"
            ],
            [
             0.7777777777777778,
             "#fb9f3a"
            ],
            [
             0.8888888888888888,
             "#fdca26"
            ],
            [
             1,
             "#f0f921"
            ]
           ]
          },
          "colorway": [
           "#636efa",
           "#EF553B",
           "#00cc96",
           "#ab63fa",
           "#FFA15A",
           "#19d3f3",
           "#FF6692",
           "#B6E880",
           "#FF97FF",
           "#FECB52"
          ],
          "font": {
           "color": "#2a3f5f"
          },
          "geo": {
           "bgcolor": "white",
           "lakecolor": "white",
           "landcolor": "#E5ECF6",
           "showlakes": true,
           "showland": true,
           "subunitcolor": "white"
          },
          "hoverlabel": {
           "align": "left"
          },
          "hovermode": "closest",
          "mapbox": {
           "style": "light"
          },
          "paper_bgcolor": "white",
          "plot_bgcolor": "#E5ECF6",
          "polar": {
           "angularaxis": {
            "gridcolor": "white",
            "linecolor": "white",
            "ticks": ""
           },
           "bgcolor": "#E5ECF6",
           "radialaxis": {
            "gridcolor": "white",
            "linecolor": "white",
            "ticks": ""
           }
          },
          "scene": {
           "xaxis": {
            "backgroundcolor": "#E5ECF6",
            "gridcolor": "white",
            "gridwidth": 2,
            "linecolor": "white",
            "showbackground": true,
            "ticks": "",
            "zerolinecolor": "white"
           },
           "yaxis": {
            "backgroundcolor": "#E5ECF6",
            "gridcolor": "white",
            "gridwidth": 2,
            "linecolor": "white",
            "showbackground": true,
            "ticks": "",
            "zerolinecolor": "white"
           },
           "zaxis": {
            "backgroundcolor": "#E5ECF6",
            "gridcolor": "white",
            "gridwidth": 2,
            "linecolor": "white",
            "showbackground": true,
            "ticks": "",
            "zerolinecolor": "white"
           }
          },
          "shapedefaults": {
           "line": {
            "color": "#2a3f5f"
           }
          },
          "ternary": {
           "aaxis": {
            "gridcolor": "white",
            "linecolor": "white",
            "ticks": ""
           },
           "baxis": {
            "gridcolor": "white",
            "linecolor": "white",
            "ticks": ""
           },
           "bgcolor": "#E5ECF6",
           "caxis": {
            "gridcolor": "white",
            "linecolor": "white",
            "ticks": ""
           }
          },
          "title": {
           "x": 0.05
          },
          "xaxis": {
           "automargin": true,
           "gridcolor": "white",
           "linecolor": "white",
           "ticks": "",
           "title": {
            "standoff": 15
           },
           "zerolinecolor": "white",
           "zerolinewidth": 2
          },
          "yaxis": {
           "automargin": true,
           "gridcolor": "white",
           "linecolor": "white",
           "ticks": "",
           "title": {
            "standoff": 15
           },
           "zerolinecolor": "white",
           "zerolinewidth": 2
          }
         }
        },
        "title": {
         "text": "Top 300 Term TF-IDF Weights"
        },
        "xaxis": {
         "anchor": "y",
         "domain": [
          0,
          1
         ],
         "tickangle": -90,
         "title": {
          "text": "Term"
         }
        },
        "yaxis": {
         "anchor": "x",
         "domain": [
          0,
          1
         ],
         "title": {
          "text": "TF-IDF Weight"
         }
        }
       }
      }
     },
     "metadata": {},
     "output_type": "display_data"
    }
   ],
   "source": [
    "import plotly.express as px\n",
    "# 計算 TF-IDF 權重總和\n",
    "term_frequencies_tfidf = np.asarray(X_tfidf.sum(axis=0)).flatten()\n",
    "\n",
    "# 準備資料，僅取前 300 個詞語和對應的 TF-IDF 權重\n",
    "data = pd.DataFrame({\n",
    "    'Term': vectorizer.get_feature_names_out()[:300],  # 取前 300 個詞語\n",
    "    'TF-IDF Weight': term_frequencies_tfidf[:300]      # 取前 300 個權重\n",
    "})\n",
    "\n",
    "# 使用 Plotly 繪製條形圖\n",
    "fig = px.bar(data, x='Term', y='TF-IDF Weight', title=\"Top 300 Term TF-IDF Weights\")\n",
    "\n",
    "# 設置 x 軸標籤旋轉角度\n",
    "fig.update_layout(xaxis_tickangle=-90)\n",
    "\n",
    "# 顯示圖表\n",
    "fig.show()"
   ]
  },
  {
   "cell_type": "code",
   "execution_count": null,
   "metadata": {},
   "outputs": [
    {
     "data": {
      "application/vnd.plotly.v1+json": {
       "config": {
        "plotlyServerURL": "https://plot.ly"
       },
       "data": [
        {
         "alignmentgroup": "True",
         "hovertemplate": "Term=%{x}<br>TF-IDF Weight=%{y}<extra></extra>",
         "legendgroup": "",
         "marker": {
          "color": "#636efa",
          "pattern": {
           "shape": ""
          }
         },
         "name": "",
         "offsetgroup": "",
         "orientation": "v",
         "showlegend": false,
         "textposition": "auto",
         "type": "bar",
         "x": [
          "the",
          "this",
          "to",
          "song",
          "my",
          "and",
          "of",
          "it",
          "was",
          "in",
          "me",
          "you",
          "back",
          "is",
          "memories",
          "love",
          "so",
          "that",
          "music",
          "when",
          "for",
          "great",
          "time",
          "on",
          "beautiful",
          "with",
          "all",
          "old",
          "like",
          "years",
          "have",
          "but",
          "brings",
          "good",
          "as",
          "songs",
          "he",
          "just",
          "one",
          "always",
          "days",
          "what",
          "can",
          "she",
          "from",
          "childhood",
          "her",
          "voice",
          "not",
          "we"
         ],
         "xaxis": "x",
         "y": [
          73.6233253393317,
          63.479369657344755,
          60.88938958643599,
          57.588994250018025,
          56.6325762044614,
          56.59493273983315,
          52.03974780300956,
          47.669343838801346,
          45.34262231578321,
          41.797061588695044,
          40.41957112341285,
          35.2578877581581,
          35.201719801849016,
          33.562616011072365,
          33.286334761431235,
          32.56615285723111,
          31.581036344873546,
          30.786288590801803,
          29.48514201573309,
          29.30111471630439,
          26.433243469094958,
          24.822396285809766,
          24.106215017121013,
          23.352069078412732,
          23.350150338186495,
          21.990853890421835,
          21.245151130368736,
          20.8788202306258,
          20.475758241692574,
          20.062478072642378,
          19.76421244652247,
          19.543134047888064,
          19.283105498312683,
          19.23767935292383,
          19.175291123163348,
          18.931337920809284,
          18.739361627579154,
          18.71579747024015,
          18.447119201876387,
          17.324660724386785,
          17.252595787197336,
          16.880461251495642,
          16.733585716819725,
          16.623971689147382,
          16.62163461694113,
          16.24697410561155,
          16.23631265776015,
          16.165919137115043,
          15.984639973362048,
          15.821145212817353
         ],
         "yaxis": "y"
        }
       ],
       "layout": {
        "barmode": "relative",
        "legend": {
         "tracegroupgap": 0
        },
        "template": {
         "data": {
          "bar": [
           {
            "error_x": {
             "color": "#2a3f5f"
            },
            "error_y": {
             "color": "#2a3f5f"
            },
            "marker": {
             "line": {
              "color": "#E5ECF6",
              "width": 0.5
             },
             "pattern": {
              "fillmode": "overlay",
              "size": 10,
              "solidity": 0.2
             }
            },
            "type": "bar"
           }
          ],
          "barpolar": [
           {
            "marker": {
             "line": {
              "color": "#E5ECF6",
              "width": 0.5
             },
             "pattern": {
              "fillmode": "overlay",
              "size": 10,
              "solidity": 0.2
             }
            },
            "type": "barpolar"
           }
          ],
          "carpet": [
           {
            "aaxis": {
             "endlinecolor": "#2a3f5f",
             "gridcolor": "white",
             "linecolor": "white",
             "minorgridcolor": "white",
             "startlinecolor": "#2a3f5f"
            },
            "baxis": {
             "endlinecolor": "#2a3f5f",
             "gridcolor": "white",
             "linecolor": "white",
             "minorgridcolor": "white",
             "startlinecolor": "#2a3f5f"
            },
            "type": "carpet"
           }
          ],
          "choropleth": [
           {
            "colorbar": {
             "outlinewidth": 0,
             "ticks": ""
            },
            "type": "choropleth"
           }
          ],
          "contour": [
           {
            "colorbar": {
             "outlinewidth": 0,
             "ticks": ""
            },
            "colorscale": [
             [
              0,
              "#0d0887"
             ],
             [
              0.1111111111111111,
              "#46039f"
             ],
             [
              0.2222222222222222,
              "#7201a8"
             ],
             [
              0.3333333333333333,
              "#9c179e"
             ],
             [
              0.4444444444444444,
              "#bd3786"
             ],
             [
              0.5555555555555556,
              "#d8576b"
             ],
             [
              0.6666666666666666,
              "#ed7953"
             ],
             [
              0.7777777777777778,
              "#fb9f3a"
             ],
             [
              0.8888888888888888,
              "#fdca26"
             ],
             [
              1,
              "#f0f921"
             ]
            ],
            "type": "contour"
           }
          ],
          "contourcarpet": [
           {
            "colorbar": {
             "outlinewidth": 0,
             "ticks": ""
            },
            "type": "contourcarpet"
           }
          ],
          "heatmap": [
           {
            "colorbar": {
             "outlinewidth": 0,
             "ticks": ""
            },
            "colorscale": [
             [
              0,
              "#0d0887"
             ],
             [
              0.1111111111111111,
              "#46039f"
             ],
             [
              0.2222222222222222,
              "#7201a8"
             ],
             [
              0.3333333333333333,
              "#9c179e"
             ],
             [
              0.4444444444444444,
              "#bd3786"
             ],
             [
              0.5555555555555556,
              "#d8576b"
             ],
             [
              0.6666666666666666,
              "#ed7953"
             ],
             [
              0.7777777777777778,
              "#fb9f3a"
             ],
             [
              0.8888888888888888,
              "#fdca26"
             ],
             [
              1,
              "#f0f921"
             ]
            ],
            "type": "heatmap"
           }
          ],
          "heatmapgl": [
           {
            "colorbar": {
             "outlinewidth": 0,
             "ticks": ""
            },
            "colorscale": [
             [
              0,
              "#0d0887"
             ],
             [
              0.1111111111111111,
              "#46039f"
             ],
             [
              0.2222222222222222,
              "#7201a8"
             ],
             [
              0.3333333333333333,
              "#9c179e"
             ],
             [
              0.4444444444444444,
              "#bd3786"
             ],
             [
              0.5555555555555556,
              "#d8576b"
             ],
             [
              0.6666666666666666,
              "#ed7953"
             ],
             [
              0.7777777777777778,
              "#fb9f3a"
             ],
             [
              0.8888888888888888,
              "#fdca26"
             ],
             [
              1,
              "#f0f921"
             ]
            ],
            "type": "heatmapgl"
           }
          ],
          "histogram": [
           {
            "marker": {
             "pattern": {
              "fillmode": "overlay",
              "size": 10,
              "solidity": 0.2
             }
            },
            "type": "histogram"
           }
          ],
          "histogram2d": [
           {
            "colorbar": {
             "outlinewidth": 0,
             "ticks": ""
            },
            "colorscale": [
             [
              0,
              "#0d0887"
             ],
             [
              0.1111111111111111,
              "#46039f"
             ],
             [
              0.2222222222222222,
              "#7201a8"
             ],
             [
              0.3333333333333333,
              "#9c179e"
             ],
             [
              0.4444444444444444,
              "#bd3786"
             ],
             [
              0.5555555555555556,
              "#d8576b"
             ],
             [
              0.6666666666666666,
              "#ed7953"
             ],
             [
              0.7777777777777778,
              "#fb9f3a"
             ],
             [
              0.8888888888888888,
              "#fdca26"
             ],
             [
              1,
              "#f0f921"
             ]
            ],
            "type": "histogram2d"
           }
          ],
          "histogram2dcontour": [
           {
            "colorbar": {
             "outlinewidth": 0,
             "ticks": ""
            },
            "colorscale": [
             [
              0,
              "#0d0887"
             ],
             [
              0.1111111111111111,
              "#46039f"
             ],
             [
              0.2222222222222222,
              "#7201a8"
             ],
             [
              0.3333333333333333,
              "#9c179e"
             ],
             [
              0.4444444444444444,
              "#bd3786"
             ],
             [
              0.5555555555555556,
              "#d8576b"
             ],
             [
              0.6666666666666666,
              "#ed7953"
             ],
             [
              0.7777777777777778,
              "#fb9f3a"
             ],
             [
              0.8888888888888888,
              "#fdca26"
             ],
             [
              1,
              "#f0f921"
             ]
            ],
            "type": "histogram2dcontour"
           }
          ],
          "mesh3d": [
           {
            "colorbar": {
             "outlinewidth": 0,
             "ticks": ""
            },
            "type": "mesh3d"
           }
          ],
          "parcoords": [
           {
            "line": {
             "colorbar": {
              "outlinewidth": 0,
              "ticks": ""
             }
            },
            "type": "parcoords"
           }
          ],
          "pie": [
           {
            "automargin": true,
            "type": "pie"
           }
          ],
          "scatter": [
           {
            "fillpattern": {
             "fillmode": "overlay",
             "size": 10,
             "solidity": 0.2
            },
            "type": "scatter"
           }
          ],
          "scatter3d": [
           {
            "line": {
             "colorbar": {
              "outlinewidth": 0,
              "ticks": ""
             }
            },
            "marker": {
             "colorbar": {
              "outlinewidth": 0,
              "ticks": ""
             }
            },
            "type": "scatter3d"
           }
          ],
          "scattercarpet": [
           {
            "marker": {
             "colorbar": {
              "outlinewidth": 0,
              "ticks": ""
             }
            },
            "type": "scattercarpet"
           }
          ],
          "scattergeo": [
           {
            "marker": {
             "colorbar": {
              "outlinewidth": 0,
              "ticks": ""
             }
            },
            "type": "scattergeo"
           }
          ],
          "scattergl": [
           {
            "marker": {
             "colorbar": {
              "outlinewidth": 0,
              "ticks": ""
             }
            },
            "type": "scattergl"
           }
          ],
          "scattermapbox": [
           {
            "marker": {
             "colorbar": {
              "outlinewidth": 0,
              "ticks": ""
             }
            },
            "type": "scattermapbox"
           }
          ],
          "scatterpolar": [
           {
            "marker": {
             "colorbar": {
              "outlinewidth": 0,
              "ticks": ""
             }
            },
            "type": "scatterpolar"
           }
          ],
          "scatterpolargl": [
           {
            "marker": {
             "colorbar": {
              "outlinewidth": 0,
              "ticks": ""
             }
            },
            "type": "scatterpolargl"
           }
          ],
          "scatterternary": [
           {
            "marker": {
             "colorbar": {
              "outlinewidth": 0,
              "ticks": ""
             }
            },
            "type": "scatterternary"
           }
          ],
          "surface": [
           {
            "colorbar": {
             "outlinewidth": 0,
             "ticks": ""
            },
            "colorscale": [
             [
              0,
              "#0d0887"
             ],
             [
              0.1111111111111111,
              "#46039f"
             ],
             [
              0.2222222222222222,
              "#7201a8"
             ],
             [
              0.3333333333333333,
              "#9c179e"
             ],
             [
              0.4444444444444444,
              "#bd3786"
             ],
             [
              0.5555555555555556,
              "#d8576b"
             ],
             [
              0.6666666666666666,
              "#ed7953"
             ],
             [
              0.7777777777777778,
              "#fb9f3a"
             ],
             [
              0.8888888888888888,
              "#fdca26"
             ],
             [
              1,
              "#f0f921"
             ]
            ],
            "type": "surface"
           }
          ],
          "table": [
           {
            "cells": {
             "fill": {
              "color": "#EBF0F8"
             },
             "line": {
              "color": "white"
             }
            },
            "header": {
             "fill": {
              "color": "#C8D4E3"
             },
             "line": {
              "color": "white"
             }
            },
            "type": "table"
           }
          ]
         },
         "layout": {
          "annotationdefaults": {
           "arrowcolor": "#2a3f5f",
           "arrowhead": 0,
           "arrowwidth": 1
          },
          "autotypenumbers": "strict",
          "coloraxis": {
           "colorbar": {
            "outlinewidth": 0,
            "ticks": ""
           }
          },
          "colorscale": {
           "diverging": [
            [
             0,
             "#8e0152"
            ],
            [
             0.1,
             "#c51b7d"
            ],
            [
             0.2,
             "#de77ae"
            ],
            [
             0.3,
             "#f1b6da"
            ],
            [
             0.4,
             "#fde0ef"
            ],
            [
             0.5,
             "#f7f7f7"
            ],
            [
             0.6,
             "#e6f5d0"
            ],
            [
             0.7,
             "#b8e186"
            ],
            [
             0.8,
             "#7fbc41"
            ],
            [
             0.9,
             "#4d9221"
            ],
            [
             1,
             "#276419"
            ]
           ],
           "sequential": [
            [
             0,
             "#0d0887"
            ],
            [
             0.1111111111111111,
             "#46039f"
            ],
            [
             0.2222222222222222,
             "#7201a8"
            ],
            [
             0.3333333333333333,
             "#9c179e"
            ],
            [
             0.4444444444444444,
             "#bd3786"
            ],
            [
             0.5555555555555556,
             "#d8576b"
            ],
            [
             0.6666666666666666,
             "#ed7953"
            ],
            [
             0.7777777777777778,
             "#fb9f3a"
            ],
            [
             0.8888888888888888,
             "#fdca26"
            ],
            [
             1,
             "#f0f921"
            ]
           ],
           "sequentialminus": [
            [
             0,
             "#0d0887"
            ],
            [
             0.1111111111111111,
             "#46039f"
            ],
            [
             0.2222222222222222,
             "#7201a8"
            ],
            [
             0.3333333333333333,
             "#9c179e"
            ],
            [
             0.4444444444444444,
             "#bd3786"
            ],
            [
             0.5555555555555556,
             "#d8576b"
            ],
            [
             0.6666666666666666,
             "#ed7953"
            ],
            [
             0.7777777777777778,
             "#fb9f3a"
            ],
            [
             0.8888888888888888,
             "#fdca26"
            ],
            [
             1,
             "#f0f921"
            ]
           ]
          },
          "colorway": [
           "#636efa",
           "#EF553B",
           "#00cc96",
           "#ab63fa",
           "#FFA15A",
           "#19d3f3",
           "#FF6692",
           "#B6E880",
           "#FF97FF",
           "#FECB52"
          ],
          "font": {
           "color": "#2a3f5f"
          },
          "geo": {
           "bgcolor": "white",
           "lakecolor": "white",
           "landcolor": "#E5ECF6",
           "showlakes": true,
           "showland": true,
           "subunitcolor": "white"
          },
          "hoverlabel": {
           "align": "left"
          },
          "hovermode": "closest",
          "mapbox": {
           "style": "light"
          },
          "paper_bgcolor": "white",
          "plot_bgcolor": "#E5ECF6",
          "polar": {
           "angularaxis": {
            "gridcolor": "white",
            "linecolor": "white",
            "ticks": ""
           },
           "bgcolor": "#E5ECF6",
           "radialaxis": {
            "gridcolor": "white",
            "linecolor": "white",
            "ticks": ""
           }
          },
          "scene": {
           "xaxis": {
            "backgroundcolor": "#E5ECF6",
            "gridcolor": "white",
            "gridwidth": 2,
            "linecolor": "white",
            "showbackground": true,
            "ticks": "",
            "zerolinecolor": "white"
           },
           "yaxis": {
            "backgroundcolor": "#E5ECF6",
            "gridcolor": "white",
            "gridwidth": 2,
            "linecolor": "white",
            "showbackground": true,
            "ticks": "",
            "zerolinecolor": "white"
           },
           "zaxis": {
            "backgroundcolor": "#E5ECF6",
            "gridcolor": "white",
            "gridwidth": 2,
            "linecolor": "white",
            "showbackground": true,
            "ticks": "",
            "zerolinecolor": "white"
           }
          },
          "shapedefaults": {
           "line": {
            "color": "#2a3f5f"
           }
          },
          "ternary": {
           "aaxis": {
            "gridcolor": "white",
            "linecolor": "white",
            "ticks": ""
           },
           "baxis": {
            "gridcolor": "white",
            "linecolor": "white",
            "ticks": ""
           },
           "bgcolor": "#E5ECF6",
           "caxis": {
            "gridcolor": "white",
            "linecolor": "white",
            "ticks": ""
           }
          },
          "title": {
           "x": 0.05
          },
          "xaxis": {
           "automargin": true,
           "gridcolor": "white",
           "linecolor": "white",
           "ticks": "",
           "title": {
            "standoff": 15
           },
           "zerolinecolor": "white",
           "zerolinewidth": 2
          },
          "yaxis": {
           "automargin": true,
           "gridcolor": "white",
           "linecolor": "white",
           "ticks": "",
           "title": {
            "standoff": 15
           },
           "zerolinecolor": "white",
           "zerolinewidth": 2
          }
         }
        },
        "title": {
         "text": "Top 50 Term TF-IDF Weights"
        },
        "xaxis": {
         "anchor": "y",
         "domain": [
          0,
          1
         ],
         "tickangle": -90,
         "title": {
          "text": "Term"
         }
        },
        "yaxis": {
         "anchor": "x",
         "domain": [
          0,
          1
         ],
         "title": {
          "text": "TF-IDF Weight"
         }
        }
       }
      }
     },
     "metadata": {},
     "output_type": "display_data"
    }
   ],
   "source": [
    "import plotly.express as px\n",
    "import pandas as pd\n",
    "import numpy as np\n",
    "\n",
    "# 設定要顯示的詞語數量\n",
    "num_terms_to_show = 50\n",
    "\n",
    "# 計算 TF-IDF 權重總和，並創建一個 DataFrame\n",
    "term_frequencies_tfidf = np.asarray(X_tfidf.sum(axis=0)).flatten()\n",
    "data = pd.DataFrame({\n",
    "    'Term': vectorizer.get_feature_names_out(),\n",
    "    'TF-IDF Weight': term_frequencies_tfidf\n",
    "}).nlargest(num_terms_to_show, 'TF-IDF Weight')  # 取前 50 個高 TF-IDF 權重的詞語\n",
    "\n",
    "# 使用 Plotly 繪製互動式條形圖\n",
    "fig = px.bar(data, x='Term', y='TF-IDF Weight', title=f'Top {num_terms_to_show} Term TF-IDF Weights')\n",
    "fig.update_layout(xaxis_tickangle=-90)  # 旋轉 x 軸標籤\n",
    "fig.show()"
   ]
  },
  {
   "cell_type": "code",
   "execution_count": 234,
   "metadata": {},
   "outputs": [
    {
     "data": {
      "application/vnd.plotly.v1+json": {
       "config": {
        "plotlyServerURL": "https://plot.ly"
       },
       "data": [
        {
         "fill": "tozeroy",
         "hovertemplate": "Term=%{x}<br>TF-IDF Weight=%{y}<extra></extra>",
         "legendgroup": "",
         "line": {
          "color": "#636efa",
          "dash": "solid"
         },
         "marker": {
          "symbol": "circle"
         },
         "mode": "lines+markers",
         "name": "",
         "orientation": "v",
         "showlegend": false,
         "type": "scatter",
         "x": [
          "the",
          "this",
          "to",
          "song",
          "my",
          "and",
          "of",
          "it",
          "was",
          "in",
          "me",
          "you",
          "back",
          "is",
          "memories",
          "love",
          "so",
          "that",
          "music",
          "when",
          "for",
          "great",
          "time",
          "on",
          "beautiful",
          "with",
          "all",
          "old",
          "like",
          "years",
          "have",
          "but",
          "brings",
          "good",
          "as",
          "songs",
          "he",
          "just",
          "one",
          "always",
          "days",
          "what",
          "can",
          "she",
          "from",
          "childhood",
          "her",
          "voice",
          "not",
          "we"
         ],
         "xaxis": "x",
         "y": [
          73.6233253393317,
          63.479369657344755,
          60.88938958643599,
          57.588994250018025,
          56.6325762044614,
          56.59493273983315,
          52.03974780300956,
          47.669343838801346,
          45.34262231578321,
          41.797061588695044,
          40.41957112341285,
          35.2578877581581,
          35.201719801849016,
          33.562616011072365,
          33.286334761431235,
          32.56615285723111,
          31.581036344873546,
          30.786288590801803,
          29.48514201573309,
          29.30111471630439,
          26.433243469094958,
          24.822396285809766,
          24.106215017121013,
          23.352069078412732,
          23.350150338186495,
          21.990853890421835,
          21.245151130368736,
          20.8788202306258,
          20.475758241692574,
          20.062478072642378,
          19.76421244652247,
          19.543134047888064,
          19.283105498312683,
          19.23767935292383,
          19.175291123163348,
          18.931337920809284,
          18.739361627579154,
          18.71579747024015,
          18.447119201876387,
          17.324660724386785,
          17.252595787197336,
          16.880461251495642,
          16.733585716819725,
          16.623971689147382,
          16.62163461694113,
          16.24697410561155,
          16.23631265776015,
          16.165919137115043,
          15.984639973362048,
          15.821145212817353
         ],
         "yaxis": "y"
        }
       ],
       "layout": {
        "legend": {
         "tracegroupgap": 0
        },
        "template": {
         "data": {
          "bar": [
           {
            "error_x": {
             "color": "#2a3f5f"
            },
            "error_y": {
             "color": "#2a3f5f"
            },
            "marker": {
             "line": {
              "color": "#E5ECF6",
              "width": 0.5
             },
             "pattern": {
              "fillmode": "overlay",
              "size": 10,
              "solidity": 0.2
             }
            },
            "type": "bar"
           }
          ],
          "barpolar": [
           {
            "marker": {
             "line": {
              "color": "#E5ECF6",
              "width": 0.5
             },
             "pattern": {
              "fillmode": "overlay",
              "size": 10,
              "solidity": 0.2
             }
            },
            "type": "barpolar"
           }
          ],
          "carpet": [
           {
            "aaxis": {
             "endlinecolor": "#2a3f5f",
             "gridcolor": "white",
             "linecolor": "white",
             "minorgridcolor": "white",
             "startlinecolor": "#2a3f5f"
            },
            "baxis": {
             "endlinecolor": "#2a3f5f",
             "gridcolor": "white",
             "linecolor": "white",
             "minorgridcolor": "white",
             "startlinecolor": "#2a3f5f"
            },
            "type": "carpet"
           }
          ],
          "choropleth": [
           {
            "colorbar": {
             "outlinewidth": 0,
             "ticks": ""
            },
            "type": "choropleth"
           }
          ],
          "contour": [
           {
            "colorbar": {
             "outlinewidth": 0,
             "ticks": ""
            },
            "colorscale": [
             [
              0,
              "#0d0887"
             ],
             [
              0.1111111111111111,
              "#46039f"
             ],
             [
              0.2222222222222222,
              "#7201a8"
             ],
             [
              0.3333333333333333,
              "#9c179e"
             ],
             [
              0.4444444444444444,
              "#bd3786"
             ],
             [
              0.5555555555555556,
              "#d8576b"
             ],
             [
              0.6666666666666666,
              "#ed7953"
             ],
             [
              0.7777777777777778,
              "#fb9f3a"
             ],
             [
              0.8888888888888888,
              "#fdca26"
             ],
             [
              1,
              "#f0f921"
             ]
            ],
            "type": "contour"
           }
          ],
          "contourcarpet": [
           {
            "colorbar": {
             "outlinewidth": 0,
             "ticks": ""
            },
            "type": "contourcarpet"
           }
          ],
          "heatmap": [
           {
            "colorbar": {
             "outlinewidth": 0,
             "ticks": ""
            },
            "colorscale": [
             [
              0,
              "#0d0887"
             ],
             [
              0.1111111111111111,
              "#46039f"
             ],
             [
              0.2222222222222222,
              "#7201a8"
             ],
             [
              0.3333333333333333,
              "#9c179e"
             ],
             [
              0.4444444444444444,
              "#bd3786"
             ],
             [
              0.5555555555555556,
              "#d8576b"
             ],
             [
              0.6666666666666666,
              "#ed7953"
             ],
             [
              0.7777777777777778,
              "#fb9f3a"
             ],
             [
              0.8888888888888888,
              "#fdca26"
             ],
             [
              1,
              "#f0f921"
             ]
            ],
            "type": "heatmap"
           }
          ],
          "heatmapgl": [
           {
            "colorbar": {
             "outlinewidth": 0,
             "ticks": ""
            },
            "colorscale": [
             [
              0,
              "#0d0887"
             ],
             [
              0.1111111111111111,
              "#46039f"
             ],
             [
              0.2222222222222222,
              "#7201a8"
             ],
             [
              0.3333333333333333,
              "#9c179e"
             ],
             [
              0.4444444444444444,
              "#bd3786"
             ],
             [
              0.5555555555555556,
              "#d8576b"
             ],
             [
              0.6666666666666666,
              "#ed7953"
             ],
             [
              0.7777777777777778,
              "#fb9f3a"
             ],
             [
              0.8888888888888888,
              "#fdca26"
             ],
             [
              1,
              "#f0f921"
             ]
            ],
            "type": "heatmapgl"
           }
          ],
          "histogram": [
           {
            "marker": {
             "pattern": {
              "fillmode": "overlay",
              "size": 10,
              "solidity": 0.2
             }
            },
            "type": "histogram"
           }
          ],
          "histogram2d": [
           {
            "colorbar": {
             "outlinewidth": 0,
             "ticks": ""
            },
            "colorscale": [
             [
              0,
              "#0d0887"
             ],
             [
              0.1111111111111111,
              "#46039f"
             ],
             [
              0.2222222222222222,
              "#7201a8"
             ],
             [
              0.3333333333333333,
              "#9c179e"
             ],
             [
              0.4444444444444444,
              "#bd3786"
             ],
             [
              0.5555555555555556,
              "#d8576b"
             ],
             [
              0.6666666666666666,
              "#ed7953"
             ],
             [
              0.7777777777777778,
              "#fb9f3a"
             ],
             [
              0.8888888888888888,
              "#fdca26"
             ],
             [
              1,
              "#f0f921"
             ]
            ],
            "type": "histogram2d"
           }
          ],
          "histogram2dcontour": [
           {
            "colorbar": {
             "outlinewidth": 0,
             "ticks": ""
            },
            "colorscale": [
             [
              0,
              "#0d0887"
             ],
             [
              0.1111111111111111,
              "#46039f"
             ],
             [
              0.2222222222222222,
              "#7201a8"
             ],
             [
              0.3333333333333333,
              "#9c179e"
             ],
             [
              0.4444444444444444,
              "#bd3786"
             ],
             [
              0.5555555555555556,
              "#d8576b"
             ],
             [
              0.6666666666666666,
              "#ed7953"
             ],
             [
              0.7777777777777778,
              "#fb9f3a"
             ],
             [
              0.8888888888888888,
              "#fdca26"
             ],
             [
              1,
              "#f0f921"
             ]
            ],
            "type": "histogram2dcontour"
           }
          ],
          "mesh3d": [
           {
            "colorbar": {
             "outlinewidth": 0,
             "ticks": ""
            },
            "type": "mesh3d"
           }
          ],
          "parcoords": [
           {
            "line": {
             "colorbar": {
              "outlinewidth": 0,
              "ticks": ""
             }
            },
            "type": "parcoords"
           }
          ],
          "pie": [
           {
            "automargin": true,
            "type": "pie"
           }
          ],
          "scatter": [
           {
            "fillpattern": {
             "fillmode": "overlay",
             "size": 10,
             "solidity": 0.2
            },
            "type": "scatter"
           }
          ],
          "scatter3d": [
           {
            "line": {
             "colorbar": {
              "outlinewidth": 0,
              "ticks": ""
             }
            },
            "marker": {
             "colorbar": {
              "outlinewidth": 0,
              "ticks": ""
             }
            },
            "type": "scatter3d"
           }
          ],
          "scattercarpet": [
           {
            "marker": {
             "colorbar": {
              "outlinewidth": 0,
              "ticks": ""
             }
            },
            "type": "scattercarpet"
           }
          ],
          "scattergeo": [
           {
            "marker": {
             "colorbar": {
              "outlinewidth": 0,
              "ticks": ""
             }
            },
            "type": "scattergeo"
           }
          ],
          "scattergl": [
           {
            "marker": {
             "colorbar": {
              "outlinewidth": 0,
              "ticks": ""
             }
            },
            "type": "scattergl"
           }
          ],
          "scattermapbox": [
           {
            "marker": {
             "colorbar": {
              "outlinewidth": 0,
              "ticks": ""
             }
            },
            "type": "scattermapbox"
           }
          ],
          "scatterpolar": [
           {
            "marker": {
             "colorbar": {
              "outlinewidth": 0,
              "ticks": ""
             }
            },
            "type": "scatterpolar"
           }
          ],
          "scatterpolargl": [
           {
            "marker": {
             "colorbar": {
              "outlinewidth": 0,
              "ticks": ""
             }
            },
            "type": "scatterpolargl"
           }
          ],
          "scatterternary": [
           {
            "marker": {
             "colorbar": {
              "outlinewidth": 0,
              "ticks": ""
             }
            },
            "type": "scatterternary"
           }
          ],
          "surface": [
           {
            "colorbar": {
             "outlinewidth": 0,
             "ticks": ""
            },
            "colorscale": [
             [
              0,
              "#0d0887"
             ],
             [
              0.1111111111111111,
              "#46039f"
             ],
             [
              0.2222222222222222,
              "#7201a8"
             ],
             [
              0.3333333333333333,
              "#9c179e"
             ],
             [
              0.4444444444444444,
              "#bd3786"
             ],
             [
              0.5555555555555556,
              "#d8576b"
             ],
             [
              0.6666666666666666,
              "#ed7953"
             ],
             [
              0.7777777777777778,
              "#fb9f3a"
             ],
             [
              0.8888888888888888,
              "#fdca26"
             ],
             [
              1,
              "#f0f921"
             ]
            ],
            "type": "surface"
           }
          ],
          "table": [
           {
            "cells": {
             "fill": {
              "color": "#EBF0F8"
             },
             "line": {
              "color": "white"
             }
            },
            "header": {
             "fill": {
              "color": "#C8D4E3"
             },
             "line": {
              "color": "white"
             }
            },
            "type": "table"
           }
          ]
         },
         "layout": {
          "annotationdefaults": {
           "arrowcolor": "#2a3f5f",
           "arrowhead": 0,
           "arrowwidth": 1
          },
          "autotypenumbers": "strict",
          "coloraxis": {
           "colorbar": {
            "outlinewidth": 0,
            "ticks": ""
           }
          },
          "colorscale": {
           "diverging": [
            [
             0,
             "#8e0152"
            ],
            [
             0.1,
             "#c51b7d"
            ],
            [
             0.2,
             "#de77ae"
            ],
            [
             0.3,
             "#f1b6da"
            ],
            [
             0.4,
             "#fde0ef"
            ],
            [
             0.5,
             "#f7f7f7"
            ],
            [
             0.6,
             "#e6f5d0"
            ],
            [
             0.7,
             "#b8e186"
            ],
            [
             0.8,
             "#7fbc41"
            ],
            [
             0.9,
             "#4d9221"
            ],
            [
             1,
             "#276419"
            ]
           ],
           "sequential": [
            [
             0,
             "#0d0887"
            ],
            [
             0.1111111111111111,
             "#46039f"
            ],
            [
             0.2222222222222222,
             "#7201a8"
            ],
            [
             0.3333333333333333,
             "#9c179e"
            ],
            [
             0.4444444444444444,
             "#bd3786"
            ],
            [
             0.5555555555555556,
             "#d8576b"
            ],
            [
             0.6666666666666666,
             "#ed7953"
            ],
            [
             0.7777777777777778,
             "#fb9f3a"
            ],
            [
             0.8888888888888888,
             "#fdca26"
            ],
            [
             1,
             "#f0f921"
            ]
           ],
           "sequentialminus": [
            [
             0,
             "#0d0887"
            ],
            [
             0.1111111111111111,
             "#46039f"
            ],
            [
             0.2222222222222222,
             "#7201a8"
            ],
            [
             0.3333333333333333,
             "#9c179e"
            ],
            [
             0.4444444444444444,
             "#bd3786"
            ],
            [
             0.5555555555555556,
             "#d8576b"
            ],
            [
             0.6666666666666666,
             "#ed7953"
            ],
            [
             0.7777777777777778,
             "#fb9f3a"
            ],
            [
             0.8888888888888888,
             "#fdca26"
            ],
            [
             1,
             "#f0f921"
            ]
           ]
          },
          "colorway": [
           "#636efa",
           "#EF553B",
           "#00cc96",
           "#ab63fa",
           "#FFA15A",
           "#19d3f3",
           "#FF6692",
           "#B6E880",
           "#FF97FF",
           "#FECB52"
          ],
          "font": {
           "color": "#2a3f5f"
          },
          "geo": {
           "bgcolor": "white",
           "lakecolor": "white",
           "landcolor": "#E5ECF6",
           "showlakes": true,
           "showland": true,
           "subunitcolor": "white"
          },
          "hoverlabel": {
           "align": "left"
          },
          "hovermode": "closest",
          "mapbox": {
           "style": "light"
          },
          "paper_bgcolor": "white",
          "plot_bgcolor": "#E5ECF6",
          "polar": {
           "angularaxis": {
            "gridcolor": "white",
            "linecolor": "white",
            "ticks": ""
           },
           "bgcolor": "#E5ECF6",
           "radialaxis": {
            "gridcolor": "white",
            "linecolor": "white",
            "ticks": ""
           }
          },
          "scene": {
           "xaxis": {
            "backgroundcolor": "#E5ECF6",
            "gridcolor": "white",
            "gridwidth": 2,
            "linecolor": "white",
            "showbackground": true,
            "ticks": "",
            "zerolinecolor": "white"
           },
           "yaxis": {
            "backgroundcolor": "#E5ECF6",
            "gridcolor": "white",
            "gridwidth": 2,
            "linecolor": "white",
            "showbackground": true,
            "ticks": "",
            "zerolinecolor": "white"
           },
           "zaxis": {
            "backgroundcolor": "#E5ECF6",
            "gridcolor": "white",
            "gridwidth": 2,
            "linecolor": "white",
            "showbackground": true,
            "ticks": "",
            "zerolinecolor": "white"
           }
          },
          "shapedefaults": {
           "line": {
            "color": "#2a3f5f"
           }
          },
          "ternary": {
           "aaxis": {
            "gridcolor": "white",
            "linecolor": "white",
            "ticks": ""
           },
           "baxis": {
            "gridcolor": "white",
            "linecolor": "white",
            "ticks": ""
           },
           "bgcolor": "#E5ECF6",
           "caxis": {
            "gridcolor": "white",
            "linecolor": "white",
            "ticks": ""
           }
          },
          "title": {
           "x": 0.05
          },
          "xaxis": {
           "automargin": true,
           "gridcolor": "white",
           "linecolor": "white",
           "ticks": "",
           "title": {
            "standoff": 15
           },
           "zerolinecolor": "white",
           "zerolinewidth": 2
          },
          "yaxis": {
           "automargin": true,
           "gridcolor": "white",
           "linecolor": "white",
           "ticks": "",
           "title": {
            "standoff": 15
           },
           "zerolinecolor": "white",
           "zerolinewidth": 2
          }
         }
        },
        "title": {
         "text": "Top 50 Term TF-IDF Weights - Long Tail Distribution"
        },
        "xaxis": {
         "anchor": "y",
         "domain": [
          0,
          1
         ],
         "tickangle": -90,
         "title": {
          "text": "Term"
         }
        },
        "yaxis": {
         "anchor": "x",
         "domain": [
          0,
          1
         ],
         "title": {
          "text": "TF-IDF Weight"
         }
        }
       }
      }
     },
     "metadata": {},
     "output_type": "display_data"
    }
   ],
   "source": [
    "num_terms_to_show = 50\n",
    "\n",
    "# 計算 TF-IDF 權重總和\n",
    "term_frequencies_tfidf = np.asarray(X_tfidf.sum(axis=0)).flatten()\n",
    "\n",
    "# 生成 DataFrame，並按照 TF-IDF 權重降序排列，僅選取前 num_terms_to_show 個詞\n",
    "data = pd.DataFrame({\n",
    "    'Term': vectorizer.get_feature_names_out(),\n",
    "    'TF-IDF Weight': term_frequencies_tfidf\n",
    "}).nlargest(num_terms_to_show, 'TF-IDF Weight')  # 取前 50 個高 TF-IDF 權重的詞語\n",
    "\n",
    "# 使用 Plotly Express 繪製長尾分布圖\n",
    "fig = px.line(data, x='Term', y='TF-IDF Weight', title=f'Top {num_terms_to_show} Term TF-IDF Weights - Long Tail Distribution')\n",
    "\n",
    "fig.update_traces(mode='lines+markers', fill='tozeroy')  # 填充下方區域\n",
    "fig.update_layout(xaxis_tickangle=-90)  # x 軸標籤旋轉 -90 度\n",
    "\n",
    "# 顯示圖表\n",
    "fig.show()"
   ]
  },
  {
   "cell_type": "code",
   "execution_count": 237,
   "metadata": {},
   "outputs": [],
   "source": [
    "import pandas as pd\n",
    "from sklearn.feature_extraction.text import TfidfVectorizer\n",
    "\n",
    "# Create separate DataFrames for each category\n",
    "categories = X['category_name'].unique()  # Get unique category labels\n",
    "category_dfs = {}  # Dictionary to store DataFrames for each category\n",
    "\n",
    "for category in categories:\n",
    "    # Filter the original DataFrame by category\n",
    "    category_dfs[category] = X[X['category_name'] == category].copy()\n",
    "\n",
    "# Function to create TF-IDF term-document DataFrame for each category\n",
    "def create_term_document_df(df):\n",
    "    tfidf_vect = TfidfVectorizer()  # Initialize the TfidfVectorizer\n",
    "    X_tfidf = tfidf_vect.fit_transform(df['text'])  # Transform the text data into TF-IDF weighted counts\n",
    "    \n",
    "    # Get the unique words (vocabulary) from the vectorizer\n",
    "    words = tfidf_vect.get_feature_names_out()\n",
    "    \n",
    "    # Create a DataFrame where rows are documents and columns are words\n",
    "    term_document_df = pd.DataFrame(X_tfidf.toarray(), columns=words)\n",
    "    \n",
    "    return term_document_df\n",
    "\n",
    "# Create term-document frequency DataFrames for each category\n",
    "term_document_dfs = {}  # Dictionary to store term-document DataFrames for each category\n",
    "\n",
    "for category in categories:\n",
    "    term_document_dfs[category] = create_term_document_df(category_dfs[category])\n",
    "\n",
    "category_number=1 #You can change it from 0 to 3\n",
    "print(f\"Filtered Term-Document Frequency DataFrame for Category {categories[category_number]}:\")\n",
    "term_document_dfs[categories[category_number]]\n",
    "\n"
   ]
  },
  {
   "cell_type": "code",
   "execution_count": 238,
   "metadata": {},
   "outputs": [
    {
     "name": "stdout",
     "output_type": "stream",
     "text": [
      "Filtered Term-Document Frequency DataFrame for Category nostalgia:\n"
     ]
    },
    {
     "data": {
      "text/html": [
       "<div>\n",
       "<style scoped>\n",
       "    .dataframe tbody tr th:only-of-type {\n",
       "        vertical-align: middle;\n",
       "    }\n",
       "\n",
       "    .dataframe tbody tr th {\n",
       "        vertical-align: top;\n",
       "    }\n",
       "\n",
       "    .dataframe thead th {\n",
       "        text-align: right;\n",
       "    }\n",
       "</style>\n",
       "<table border=\"1\" class=\"dataframe\">\n",
       "  <thead>\n",
       "    <tr style=\"text-align: right;\">\n",
       "      <th></th>\n",
       "      <th>07</th>\n",
       "      <th>10</th>\n",
       "      <th>11</th>\n",
       "      <th>12</th>\n",
       "      <th>13</th>\n",
       "      <th>14</th>\n",
       "      <th>15</th>\n",
       "      <th>16</th>\n",
       "      <th>17</th>\n",
       "      <th>18</th>\n",
       "      <th>...</th>\n",
       "      <th>you</th>\n",
       "      <th>young</th>\n",
       "      <th>younger</th>\n",
       "      <th>youngster</th>\n",
       "      <th>your</th>\n",
       "      <th>yours</th>\n",
       "      <th>youth</th>\n",
       "      <th>youtube</th>\n",
       "      <th>yrs</th>\n",
       "      <th>yup</th>\n",
       "    </tr>\n",
       "  </thead>\n",
       "  <tbody>\n",
       "    <tr>\n",
       "      <th>0</th>\n",
       "      <td>0.0</td>\n",
       "      <td>0.0</td>\n",
       "      <td>0.0</td>\n",
       "      <td>0.0</td>\n",
       "      <td>0.0</td>\n",
       "      <td>0.0</td>\n",
       "      <td>0.0</td>\n",
       "      <td>0.0</td>\n",
       "      <td>0.0</td>\n",
       "      <td>0.0</td>\n",
       "      <td>...</td>\n",
       "      <td>0.000000</td>\n",
       "      <td>0.0</td>\n",
       "      <td>0.000000</td>\n",
       "      <td>0.0</td>\n",
       "      <td>0.0</td>\n",
       "      <td>0.0</td>\n",
       "      <td>0.000000</td>\n",
       "      <td>0.0</td>\n",
       "      <td>0.0</td>\n",
       "      <td>0.0</td>\n",
       "    </tr>\n",
       "    <tr>\n",
       "      <th>1</th>\n",
       "      <td>0.0</td>\n",
       "      <td>0.0</td>\n",
       "      <td>0.0</td>\n",
       "      <td>0.0</td>\n",
       "      <td>0.0</td>\n",
       "      <td>0.0</td>\n",
       "      <td>0.0</td>\n",
       "      <td>0.0</td>\n",
       "      <td>0.0</td>\n",
       "      <td>0.0</td>\n",
       "      <td>...</td>\n",
       "      <td>0.000000</td>\n",
       "      <td>0.0</td>\n",
       "      <td>0.000000</td>\n",
       "      <td>0.0</td>\n",
       "      <td>0.0</td>\n",
       "      <td>0.0</td>\n",
       "      <td>0.000000</td>\n",
       "      <td>0.0</td>\n",
       "      <td>0.0</td>\n",
       "      <td>0.0</td>\n",
       "    </tr>\n",
       "    <tr>\n",
       "      <th>2</th>\n",
       "      <td>0.0</td>\n",
       "      <td>0.0</td>\n",
       "      <td>0.0</td>\n",
       "      <td>0.0</td>\n",
       "      <td>0.0</td>\n",
       "      <td>0.0</td>\n",
       "      <td>0.0</td>\n",
       "      <td>0.0</td>\n",
       "      <td>0.0</td>\n",
       "      <td>0.0</td>\n",
       "      <td>...</td>\n",
       "      <td>0.000000</td>\n",
       "      <td>0.0</td>\n",
       "      <td>0.000000</td>\n",
       "      <td>0.0</td>\n",
       "      <td>0.0</td>\n",
       "      <td>0.0</td>\n",
       "      <td>0.000000</td>\n",
       "      <td>0.0</td>\n",
       "      <td>0.0</td>\n",
       "      <td>0.0</td>\n",
       "    </tr>\n",
       "    <tr>\n",
       "      <th>3</th>\n",
       "      <td>0.0</td>\n",
       "      <td>0.0</td>\n",
       "      <td>0.0</td>\n",
       "      <td>0.0</td>\n",
       "      <td>0.0</td>\n",
       "      <td>0.0</td>\n",
       "      <td>0.0</td>\n",
       "      <td>0.0</td>\n",
       "      <td>0.0</td>\n",
       "      <td>0.0</td>\n",
       "      <td>...</td>\n",
       "      <td>0.000000</td>\n",
       "      <td>0.0</td>\n",
       "      <td>0.000000</td>\n",
       "      <td>0.0</td>\n",
       "      <td>0.0</td>\n",
       "      <td>0.0</td>\n",
       "      <td>0.000000</td>\n",
       "      <td>0.0</td>\n",
       "      <td>0.0</td>\n",
       "      <td>0.0</td>\n",
       "    </tr>\n",
       "    <tr>\n",
       "      <th>4</th>\n",
       "      <td>0.0</td>\n",
       "      <td>0.0</td>\n",
       "      <td>0.0</td>\n",
       "      <td>0.0</td>\n",
       "      <td>0.0</td>\n",
       "      <td>0.0</td>\n",
       "      <td>0.0</td>\n",
       "      <td>0.0</td>\n",
       "      <td>0.0</td>\n",
       "      <td>0.0</td>\n",
       "      <td>...</td>\n",
       "      <td>0.202012</td>\n",
       "      <td>0.0</td>\n",
       "      <td>0.000000</td>\n",
       "      <td>0.0</td>\n",
       "      <td>0.0</td>\n",
       "      <td>0.0</td>\n",
       "      <td>0.000000</td>\n",
       "      <td>0.0</td>\n",
       "      <td>0.0</td>\n",
       "      <td>0.0</td>\n",
       "    </tr>\n",
       "    <tr>\n",
       "      <th>...</th>\n",
       "      <td>...</td>\n",
       "      <td>...</td>\n",
       "      <td>...</td>\n",
       "      <td>...</td>\n",
       "      <td>...</td>\n",
       "      <td>...</td>\n",
       "      <td>...</td>\n",
       "      <td>...</td>\n",
       "      <td>...</td>\n",
       "      <td>...</td>\n",
       "      <td>...</td>\n",
       "      <td>...</td>\n",
       "      <td>...</td>\n",
       "      <td>...</td>\n",
       "      <td>...</td>\n",
       "      <td>...</td>\n",
       "      <td>...</td>\n",
       "      <td>...</td>\n",
       "      <td>...</td>\n",
       "      <td>...</td>\n",
       "      <td>...</td>\n",
       "    </tr>\n",
       "    <tr>\n",
       "      <th>597</th>\n",
       "      <td>0.0</td>\n",
       "      <td>0.0</td>\n",
       "      <td>0.0</td>\n",
       "      <td>0.0</td>\n",
       "      <td>0.0</td>\n",
       "      <td>0.0</td>\n",
       "      <td>0.0</td>\n",
       "      <td>0.0</td>\n",
       "      <td>0.0</td>\n",
       "      <td>0.0</td>\n",
       "      <td>...</td>\n",
       "      <td>0.000000</td>\n",
       "      <td>0.0</td>\n",
       "      <td>0.000000</td>\n",
       "      <td>0.0</td>\n",
       "      <td>0.0</td>\n",
       "      <td>0.0</td>\n",
       "      <td>0.000000</td>\n",
       "      <td>0.0</td>\n",
       "      <td>0.0</td>\n",
       "      <td>0.0</td>\n",
       "    </tr>\n",
       "    <tr>\n",
       "      <th>598</th>\n",
       "      <td>0.0</td>\n",
       "      <td>0.0</td>\n",
       "      <td>0.0</td>\n",
       "      <td>0.0</td>\n",
       "      <td>0.0</td>\n",
       "      <td>0.0</td>\n",
       "      <td>0.0</td>\n",
       "      <td>0.0</td>\n",
       "      <td>0.0</td>\n",
       "      <td>0.0</td>\n",
       "      <td>...</td>\n",
       "      <td>0.000000</td>\n",
       "      <td>0.0</td>\n",
       "      <td>0.282601</td>\n",
       "      <td>0.0</td>\n",
       "      <td>0.0</td>\n",
       "      <td>0.0</td>\n",
       "      <td>0.000000</td>\n",
       "      <td>0.0</td>\n",
       "      <td>0.0</td>\n",
       "      <td>0.0</td>\n",
       "    </tr>\n",
       "    <tr>\n",
       "      <th>599</th>\n",
       "      <td>0.0</td>\n",
       "      <td>0.0</td>\n",
       "      <td>0.0</td>\n",
       "      <td>0.0</td>\n",
       "      <td>0.0</td>\n",
       "      <td>0.0</td>\n",
       "      <td>0.0</td>\n",
       "      <td>0.0</td>\n",
       "      <td>0.0</td>\n",
       "      <td>0.0</td>\n",
       "      <td>...</td>\n",
       "      <td>0.000000</td>\n",
       "      <td>0.0</td>\n",
       "      <td>0.000000</td>\n",
       "      <td>0.0</td>\n",
       "      <td>0.0</td>\n",
       "      <td>0.0</td>\n",
       "      <td>0.000000</td>\n",
       "      <td>0.0</td>\n",
       "      <td>0.0</td>\n",
       "      <td>0.0</td>\n",
       "    </tr>\n",
       "    <tr>\n",
       "      <th>600</th>\n",
       "      <td>0.0</td>\n",
       "      <td>0.0</td>\n",
       "      <td>0.0</td>\n",
       "      <td>0.0</td>\n",
       "      <td>0.0</td>\n",
       "      <td>0.0</td>\n",
       "      <td>0.0</td>\n",
       "      <td>0.0</td>\n",
       "      <td>0.0</td>\n",
       "      <td>0.0</td>\n",
       "      <td>...</td>\n",
       "      <td>0.000000</td>\n",
       "      <td>0.0</td>\n",
       "      <td>0.000000</td>\n",
       "      <td>0.0</td>\n",
       "      <td>0.0</td>\n",
       "      <td>0.0</td>\n",
       "      <td>0.247221</td>\n",
       "      <td>0.0</td>\n",
       "      <td>0.0</td>\n",
       "      <td>0.0</td>\n",
       "    </tr>\n",
       "    <tr>\n",
       "      <th>601</th>\n",
       "      <td>0.0</td>\n",
       "      <td>0.0</td>\n",
       "      <td>0.0</td>\n",
       "      <td>0.0</td>\n",
       "      <td>0.0</td>\n",
       "      <td>0.0</td>\n",
       "      <td>0.0</td>\n",
       "      <td>0.0</td>\n",
       "      <td>0.0</td>\n",
       "      <td>0.0</td>\n",
       "      <td>...</td>\n",
       "      <td>0.000000</td>\n",
       "      <td>0.0</td>\n",
       "      <td>0.000000</td>\n",
       "      <td>0.0</td>\n",
       "      <td>0.0</td>\n",
       "      <td>0.0</td>\n",
       "      <td>0.000000</td>\n",
       "      <td>0.0</td>\n",
       "      <td>0.0</td>\n",
       "      <td>0.0</td>\n",
       "    </tr>\n",
       "  </tbody>\n",
       "</table>\n",
       "<p>602 rows × 2081 columns</p>\n",
       "</div>"
      ],
      "text/plain": [
       "      07   10   11   12   13   14   15   16   17   18  ...       you  young  \\\n",
       "0    0.0  0.0  0.0  0.0  0.0  0.0  0.0  0.0  0.0  0.0  ...  0.000000    0.0   \n",
       "1    0.0  0.0  0.0  0.0  0.0  0.0  0.0  0.0  0.0  0.0  ...  0.000000    0.0   \n",
       "2    0.0  0.0  0.0  0.0  0.0  0.0  0.0  0.0  0.0  0.0  ...  0.000000    0.0   \n",
       "3    0.0  0.0  0.0  0.0  0.0  0.0  0.0  0.0  0.0  0.0  ...  0.000000    0.0   \n",
       "4    0.0  0.0  0.0  0.0  0.0  0.0  0.0  0.0  0.0  0.0  ...  0.202012    0.0   \n",
       "..   ...  ...  ...  ...  ...  ...  ...  ...  ...  ...  ...       ...    ...   \n",
       "597  0.0  0.0  0.0  0.0  0.0  0.0  0.0  0.0  0.0  0.0  ...  0.000000    0.0   \n",
       "598  0.0  0.0  0.0  0.0  0.0  0.0  0.0  0.0  0.0  0.0  ...  0.000000    0.0   \n",
       "599  0.0  0.0  0.0  0.0  0.0  0.0  0.0  0.0  0.0  0.0  ...  0.000000    0.0   \n",
       "600  0.0  0.0  0.0  0.0  0.0  0.0  0.0  0.0  0.0  0.0  ...  0.000000    0.0   \n",
       "601  0.0  0.0  0.0  0.0  0.0  0.0  0.0  0.0  0.0  0.0  ...  0.000000    0.0   \n",
       "\n",
       "      younger  youngster  your  yours     youth  youtube  yrs  yup  \n",
       "0    0.000000        0.0   0.0    0.0  0.000000      0.0  0.0  0.0  \n",
       "1    0.000000        0.0   0.0    0.0  0.000000      0.0  0.0  0.0  \n",
       "2    0.000000        0.0   0.0    0.0  0.000000      0.0  0.0  0.0  \n",
       "3    0.000000        0.0   0.0    0.0  0.000000      0.0  0.0  0.0  \n",
       "4    0.000000        0.0   0.0    0.0  0.000000      0.0  0.0  0.0  \n",
       "..        ...        ...   ...    ...       ...      ...  ...  ...  \n",
       "597  0.000000        0.0   0.0    0.0  0.000000      0.0  0.0  0.0  \n",
       "598  0.282601        0.0   0.0    0.0  0.000000      0.0  0.0  0.0  \n",
       "599  0.000000        0.0   0.0    0.0  0.000000      0.0  0.0  0.0  \n",
       "600  0.000000        0.0   0.0    0.0  0.247221      0.0  0.0  0.0  \n",
       "601  0.000000        0.0   0.0    0.0  0.000000      0.0  0.0  0.0  \n",
       "\n",
       "[602 rows x 2081 columns]"
      ]
     },
     "execution_count": 238,
     "metadata": {},
     "output_type": "execute_result"
    }
   ],
   "source": [
    "category_number=1 #You can change it from 0 to 3\n",
    "print(f\"Filtered Term-Document Frequency DataFrame for Category {categories[category_number]}:\")\n",
    "term_document_dfs[categories[category_number]]\n"
   ]
  },
  {
   "cell_type": "code",
   "execution_count": 240,
   "metadata": {},
   "outputs": [
    {
     "data": {
      "image/png": "[encoded data removed]",
      "text/plain": [
       "<Figure size 1000x600 with 1 Axes>"
      ]
     },
     "metadata": {},
     "output_type": "display_data"
    }
   ],
   "source": [
    "category_number = 0  # 可將其變更為0到1中的任意一個\n",
    "selected_category = categories[category_number]  # 取得對應的類別名稱\n",
    "\n",
    "# 取出指定類別的 TF-IDF 權重矩陣，並計算每個詞的權重總和\n",
    "tfidf_word_counts = term_document_dfs[selected_category].sum(axis=0).to_numpy()\n",
    "\n",
    "# 視覺化 TF-IDF 權重的分布\n",
    "plt.figure(figsize=(10, 6))\n",
    "plt.hist(tfidf_word_counts, bins=5000, color='blue', edgecolor='black')\n",
    "\n",
    "# 設置圖表標題和軸標籤\n",
    "plt.title(f'TF-IDF Weight Distribution for Category \"{selected_category}\"')\n",
    "plt.xlabel('TF-IDF Weight')\n",
    "plt.ylabel('Number of Terms')\n",
    "plt.xlim(0, 1)  # 可視情況調整 x 軸範圍以適合 TF-IDF 權重範圍\n",
    "plt.show()"
   ]
  },
  {
   "cell_type": "code",
   "execution_count": 248,
   "metadata": {},
   "outputs": [
    {
     "name": "stdout",
     "output_type": "stream",
     "text": [
      "Category: not nostalgia\n",
      "Number of terms in top 5%: 114\n",
      "Filtered terms: ['loved', 'better', 'years', 'heart', 'why', 'day', 'here', 'those', 'man', 'make', 'its', 'too', 'real', 'do', 'classic', 'today', 'an', 'some', 'singer', 'world', 'heard', 'up', 'think', 'such', 'listening', 'most', 'video', 'had', 'your', 'sing', 'get', 'people', 'him', 'nice', 'don', 'still', 'by', 'many', 'would', 'listen', 'out', 'these', 'has', 'hear', 'version', 'more', 'if', 'very', 'much', 'about', 'really', 'now', 'there', 'thank', 'am', 'know', 'old', 'only', 'who', 'how', 'could', 'never', 'we', 'from', 'at', 'good', 'his', 'are', 'best', 'no', 'they', 'ever', 'always', 'her', 'when', 'she', 'will', 'time', 'songs', 'be', 'just', 'voice', 'on', 'all', 'as', 'what', 'beautiful', 'but', 'with', 'not', 'me', 'can', 'great', 'one', 'he', 'have', 'like', 'for', 'so', 'was', 'music', 'love', 'my', 'that', 'in', 'you', 'is', 'it', 'of', 'to', 'song', 'and', 'this', 'the']\n"
     ]
    }
   ],
   "source": [
    "category_number = 0\n",
    "selected_category = categories[category_number]\n",
    "tfidf_vectorizer = TfidfVectorizer()\n",
    "X_tfidf = tfidf_vectorizer.fit_transform(category_dfs[selected_category]['text'])\n",
    "\n",
    "# 計算每個詞語的 TF-IDF 總權重\n",
    "word_weights = X_tfidf.sum(axis=0).A1  # .A1 轉換為一維 NumPy 陣列\n",
    "\n",
    "# 將權重按降序排列，並取出前 5% 的詞語\n",
    "sorted_weights = np.sort(word_weights)[::-1]\n",
    "top_5_percent_index = int(0.05 * len(sorted_weights))\n",
    "\n",
    "# 取出前 5% 高權重詞的索引位置\n",
    "top_5_percent_indices = np.argsort(word_weights)[-top_5_percent_index:]\n",
    "\n",
    "# 篩選出高權重詞並列印\n",
    "filtered_words = [tfidf_vectorizer.get_feature_names_out()[i] for i in top_5_percent_indices]\n",
    "\n",
    "print(f\"Category: {selected_category}\")\n",
    "print(f\"Number of terms in top 5%: {top_5_percent_index}\")\n",
    "print(f\"Filtered terms: {filtered_words}\")"
   ]
  },
  {
   "cell_type": "code",
   "execution_count": 247,
   "metadata": {},
   "outputs": [
    {
     "name": "stdout",
     "output_type": "stream",
     "text": [
      "Category: nostalgia\n",
      "Number of terms in top 5%: 104\n",
      "Filtered terms: ['wonderful', 'out', 'child', 'radio', 'wish', 'again', 'him', 'can', 'some', 'mum', 'mom', 'makes', 'be', 'then', 'voice', 'are', 'really', 'never', 'sing', 'bring', 'life', 'how', 'thanks', 'what', 'heard', 'they', 'one', 'played', 'hear', 'he', 'takes', 'his', 'have', 'listen', 'am', 'up', 'every', 'like', 'these', 'happy', 'used', 'were', 'school', 'first', 'best', 'thank', 'very', 'young', 'her', 'at', 'she', 'had', 'loved', 'still', 'dad', 'times', 'just', 'always', 'we', 'now', 'those', 'as', 'but', 'much', 'songs', 'listening', 'from', 'many', 'all', 'miss', 'with', 'is', 'good', 'remember', 'music', 'that', 'beautiful', 'days', 'reminds', 'on', 'for', 'old', 'great', 'childhood', 'time', 'years', 'you', 'love', 'brings', 'so', 'when', 'in', 'it', 'memories', 'back', 'of', 'me', 'was', 'and', 'song', 'this', 'to', 'my', 'the']\n"
     ]
    }
   ],
   "source": [
    "category_number = 1\n",
    "selected_category = categories[category_number]\n",
    "tfidf_vectorizer = TfidfVectorizer()\n",
    "X_tfidf = tfidf_vectorizer.fit_transform(category_dfs[selected_category]['text'])\n",
    "\n",
    "# 計算每個詞語的 TF-IDF 總權重\n",
    "word_weights = X_tfidf.sum(axis=0).A1  # .A1 轉換為一維 NumPy 陣列\n",
    "\n",
    "# 將權重按降序排列，並取出前 5% 的詞語\n",
    "sorted_weights = np.sort(word_weights)[::-1]\n",
    "top_5_percent_index = int(0.05 * len(sorted_weights))\n",
    "\n",
    "# 取出前 5% 高權重詞的索引位置\n",
    "top_5_percent_indices = np.argsort(word_weights)[-top_5_percent_index:]\n",
    "\n",
    "# 篩選出高權重詞並列印\n",
    "filtered_words = [tfidf_vectorizer.get_feature_names_out()[i] for i in top_5_percent_indices]\n",
    "\n",
    "print(f\"Category: {selected_category}\")\n",
    "print(f\"Number of terms in top 5%: {top_5_percent_index}\")\n",
    "print(f\"Filtered terms: {filtered_words}\")"
   ]
  },
  {
   "cell_type": "code",
   "execution_count": 249,
   "metadata": {},
   "outputs": [
    {
     "name": "stdout",
     "output_type": "stream",
     "text": [
      "Category: not nostalgia\n",
      "Number of terms in bottom 1%: 22\n",
      "Filtered terms: ['confessing', 'feedback', 'connect', 'congratulation', 'at', 'dancing', 'handedly', 'el', 'american', 'invest', 'enthusiastic', 'bought', '73', 'considered', 'hugs', 'industry', '2006', 'burn', 'crematorium', 'favourite', 'assume', 'pay']\n"
     ]
    }
   ],
   "source": [
    "category_number = 0  \n",
    "\n",
    "# 計算該類別的詞-文件矩陣的詞語權重總和，這裡的 word_counts 即為每個詞語的權重總和\n",
    "word_counts = term_document_dfs[categories[category_number]].sum(axis=0).to_numpy()\n",
    "\n",
    "# 取得排序索引，根據權重從小到大排序\n",
    "sorted_indices = np.argsort(word_counts)\n",
    "sorted_counts = word_counts[sorted_indices]  # 按照權重排序\n",
    "\n",
    "# 計算權重最低的 1% 詞語的索引\n",
    "total_terms = len(sorted_counts)\n",
    "bottom_1_percent_index = int(0.01 * total_terms)\n",
    "\n",
    "# 取得底部 1% 的詞語索引\n",
    "bottom_1_percent_indices = sorted_indices[:bottom_1_percent_index]\n",
    "\n",
    "# 根據索引篩選出權重最低的 1% 詞語\n",
    "filtered_words = [vectorizer.get_feature_names_out()[i] for i in bottom_1_percent_indices]\n",
    "\n",
    "# 印出類別名稱、底部 1% 詞語的數量，以及這些詞語\n",
    "print(f\"Category: {categories[category_number]}\")\n",
    "print(f\"Number of terms in bottom 1%: {bottom_1_percent_index}\")\n",
    "print(f\"Filtered terms: {filtered_words}\")"
   ]
  },
  {
   "cell_type": "code",
   "execution_count": 250,
   "metadata": {},
   "outputs": [
    {
     "name": "stdout",
     "output_type": "stream",
     "text": [
      "Category: nostalgia\n",
      "Number of terms in bottom 1%: 20\n",
      "Filtered terms: ['earnings', 'martin', 'beaten', 'any', 'incurable', 'charismatic', 'actually', 'expressions', 'correctly', 'cooler', 'concert', 'engelbert', 'half', 'charting', 'ability', 'ended', 'beautiful', 'comforting', 'cheap', 'haired']\n"
     ]
    }
   ],
   "source": [
    "category_number = 1  \n",
    "\n",
    "# 計算該類別的詞-文件矩陣的詞語權重總和，這裡的 word_counts 即為每個詞語的權重總和\n",
    "word_counts = term_document_dfs[categories[category_number]].sum(axis=0).to_numpy()\n",
    "\n",
    "# 取得排序索引，根據權重從小到大排序\n",
    "sorted_indices = np.argsort(word_counts)\n",
    "sorted_counts = word_counts[sorted_indices]  # 按照權重排序\n",
    "\n",
    "# 計算權重最低的 1% 詞語的索引\n",
    "total_terms = len(sorted_counts)\n",
    "bottom_1_percent_index = int(0.01 * total_terms)\n",
    "\n",
    "# 取得底部 1% 的詞語索引\n",
    "bottom_1_percent_indices = sorted_indices[:bottom_1_percent_index]\n",
    "\n",
    "# 根據索引篩選出權重最低的 1% 詞語\n",
    "filtered_words = [vectorizer.get_feature_names_out()[i] for i in bottom_1_percent_indices]\n",
    "\n",
    "# 印出類別名稱、底部 1% 詞語的數量，以及這些詞語\n",
    "print(f\"Category: {categories[category_number]}\")\n",
    "print(f\"Number of terms in bottom 1%: {bottom_1_percent_index}\")\n",
    "print(f\"Filtered terms: {filtered_words}\")"
   ]
  },
  {
   "cell_type": "code",
   "execution_count": 252,
   "metadata": {},
   "outputs": [
    {
     "name": "stdout",
     "output_type": "stream",
     "text": [
      "Filtered Term-Document Frequency DataFrame for Category not nostalgia:\n",
      "      00  000  045   10       100  10m   11   12   14   15  ...  yet  younger  \\\n",
      "0    0.0  0.0  0.0  0.0  0.000000  0.0  0.0  0.0  0.0  0.0  ...  0.0      0.0   \n",
      "1    0.0  0.0  0.0  0.0  0.000000  0.0  0.0  0.0  0.0  0.0  ...  0.0      0.0   \n",
      "2    0.0  0.0  0.0  0.0  0.000000  0.0  0.0  0.0  0.0  0.0  ...  0.0      0.0   \n",
      "3    0.0  0.0  0.0  0.0  0.000000  0.0  0.0  0.0  0.0  0.0  ...  0.0      0.0   \n",
      "4    0.0  0.0  0.0  0.0  0.000000  0.0  0.0  0.0  0.0  0.0  ...  0.0      0.0   \n",
      "..   ...  ...  ...  ...       ...  ...  ...  ...  ...  ...  ...  ...      ...   \n",
      "591  0.0  0.0  0.0  0.0  0.000000  0.0  0.0  0.0  0.0  0.0  ...  0.0      0.0   \n",
      "592  0.0  0.0  0.0  0.0  0.000000  0.0  0.0  0.0  0.0  0.0  ...  0.0      0.0   \n",
      "593  0.0  0.0  0.0  0.0  0.000000  0.0  0.0  0.0  0.0  0.0  ...  0.0      0.0   \n",
      "594  0.0  0.0  0.0  0.0  0.135687  0.0  0.0  0.0  0.0  0.0  ...  0.0      0.0   \n",
      "595  0.0  0.0  0.0  0.0  0.000000  0.0  0.0  0.0  0.0  0.0  ...  0.0      0.0   \n",
      "\n",
      "     youngest  youngsters  yourself  youth  yrs  yuo  zealand  zulus  \n",
      "0         0.0         0.0       0.0    0.0  0.0  0.0      0.0    0.0  \n",
      "1         0.0         0.0       0.0    0.0  0.0  0.0      0.0    0.0  \n",
      "2         0.0         0.0       0.0    0.0  0.0  0.0      0.0    0.0  \n",
      "3         0.0         0.0       0.0    0.0  0.0  0.0      0.0    0.0  \n",
      "4         0.0         0.0       0.0    0.0  0.0  0.0      0.0    0.0  \n",
      "..        ...         ...       ...    ...  ...  ...      ...    ...  \n",
      "591       0.0         0.0       0.0    0.0  0.0  0.0      0.0    0.0  \n",
      "592       0.0         0.0       0.0    0.0  0.0  0.0      0.0    0.0  \n",
      "593       0.0         0.0       0.0    0.0  0.0  0.0      0.0    0.0  \n",
      "594       0.0         0.0       0.0    0.0  0.0  0.0      0.0    0.0  \n",
      "595       0.0         0.0       0.0    0.0  0.0  0.0      0.0    0.0  \n",
      "\n",
      "[596 rows x 2018 columns]\n"
     ]
    }
   ],
   "source": [
    "category_number = 0  \n",
    "# 定義函數：根據每個詞在文件中的權重總和，篩選出前 5% 和底部 1% 詞彙\n",
    "def filter_top_bottom_words_by_sum(term_document_df, top_percent=0.05, bottom_percent=0.01):\n",
    "    # 計算每個詞在所有文件中的總權重（TF-IDF）\n",
    "    word_sums = term_document_df.sum(axis=0)\n",
    "    \n",
    "    # 根據權重進行升序排序\n",
    "    sorted_words = word_sums.sort_values()\n",
    "    \n",
    "    # 計算需要移除的高頻和低頻詞的數量\n",
    "    total_words = len(sorted_words)\n",
    "    top_n = int(top_percent * total_words)\n",
    "    bottom_n = int(bottom_percent * total_words)\n",
    "    \n",
    "    # 獲取底部 1% 和頂部 5% 詞語的名稱，將其標記為要移除\n",
    "    words_to_remove = pd.concat([sorted_words.head(bottom_n), sorted_words.tail(top_n)]).index\n",
    "    \n",
    "    # 從 DataFrame 中刪除這些詞語，並返回新的 DataFrame\n",
    "    return term_document_df.drop(columns=words_to_remove)\n",
    "\n",
    "# 初始化字典以存儲篩選後的每個類別的詞-文件頻率 DataFrame\n",
    "filtered_term_document_dfs = {}\n",
    "\n",
    "for category in categories:\n",
    "    # 對每個類別的 DataFrame 應用篩選函數\n",
    "    filtered_term_document_dfs[category] = filter_top_bottom_words_by_sum(term_document_dfs[category])\n",
    "\n",
    "# 更新 term_document_dfs 字典為篩選後的 DataFrames\n",
    "term_document_dfs = filtered_term_document_dfs\n",
    "\n",
    "print(f\"Filtered Term-Document Frequency DataFrame for Category {categories[category_number]}:\")\n",
    "print(filtered_term_document_dfs[categories[category_number]])"
   ]
  },
  {
   "cell_type": "code",
   "execution_count": 253,
   "metadata": {},
   "outputs": [
    {
     "name": "stdout",
     "output_type": "stream",
     "text": [
      "Filtered Term-Document Frequency DataFrame for Category nostalgia:\n",
      "      07   11   12   15   17   18   19  1927  1950s  1952  ...  yeas  yeh  \\\n",
      "0    0.0  0.0  0.0  0.0  0.0  0.0  0.0   0.0    0.0   0.0  ...   0.0  0.0   \n",
      "1    0.0  0.0  0.0  0.0  0.0  0.0  0.0   0.0    0.0   0.0  ...   0.0  0.0   \n",
      "2    0.0  0.0  0.0  0.0  0.0  0.0  0.0   0.0    0.0   0.0  ...   0.0  0.0   \n",
      "3    0.0  0.0  0.0  0.0  0.0  0.0  0.0   0.0    0.0   0.0  ...   0.0  0.0   \n",
      "4    0.0  0.0  0.0  0.0  0.0  0.0  0.0   0.0    0.0   0.0  ...   0.0  0.0   \n",
      "..   ...  ...  ...  ...  ...  ...  ...   ...    ...   ...  ...   ...  ...   \n",
      "597  0.0  0.0  0.0  0.0  0.0  0.0  0.0   0.0    0.0   0.0  ...   0.0  0.0   \n",
      "598  0.0  0.0  0.0  0.0  0.0  0.0  0.0   0.0    0.0   0.0  ...   0.0  0.0   \n",
      "599  0.0  0.0  0.0  0.0  0.0  0.0  0.0   0.0    0.0   0.0  ...   0.0  0.0   \n",
      "600  0.0  0.0  0.0  0.0  0.0  0.0  0.0   0.0    0.0   0.0  ...   0.0  0.0   \n",
      "601  0.0  0.0  0.0  0.0  0.0  0.0  0.0   0.0    0.0   0.0  ...   0.0  0.0   \n",
      "\n",
      "     yester  yet  yokel  youngster  yours  youtube  yrs  yup  \n",
      "0       0.0  0.0    0.0        0.0    0.0      0.0  0.0  0.0  \n",
      "1       0.0  0.0    0.0        0.0    0.0      0.0  0.0  0.0  \n",
      "2       0.0  0.0    0.0        0.0    0.0      0.0  0.0  0.0  \n",
      "3       0.0  0.0    0.0        0.0    0.0      0.0  0.0  0.0  \n",
      "4       0.0  0.0    0.0        0.0    0.0      0.0  0.0  0.0  \n",
      "..      ...  ...    ...        ...    ...      ...  ...  ...  \n",
      "597     0.0  0.0    0.0        0.0    0.0      0.0  0.0  0.0  \n",
      "598     0.0  0.0    0.0        0.0    0.0      0.0  0.0  0.0  \n",
      "599     0.0  0.0    0.0        0.0    0.0      0.0  0.0  0.0  \n",
      "600     0.0  0.0    0.0        0.0    0.0      0.0  0.0  0.0  \n",
      "601     0.0  0.0    0.0        0.0    0.0      0.0  0.0  0.0  \n",
      "\n",
      "[602 rows x 1731 columns]\n"
     ]
    }
   ],
   "source": [
    "category_number = 1  \n",
    "# 定義函數：根據每個詞在文件中的權重總和，篩選出前 5% 和底部 1% 詞彙\n",
    "def filter_top_bottom_words_by_sum(term_document_df, top_percent=0.05, bottom_percent=0.01):\n",
    "    # 計算每個詞在所有文件中的總權重（TF-IDF）\n",
    "    word_sums = term_document_df.sum(axis=0)\n",
    "    \n",
    "    # 根據權重進行升序排序\n",
    "    sorted_words = word_sums.sort_values()\n",
    "    \n",
    "    # 計算需要移除的高頻和低頻詞的數量\n",
    "    total_words = len(sorted_words)\n",
    "    top_n = int(top_percent * total_words)\n",
    "    bottom_n = int(bottom_percent * total_words)\n",
    "    \n",
    "    # 獲取底部 1% 和頂部 5% 詞語的名稱，將其標記為要移除\n",
    "    words_to_remove = pd.concat([sorted_words.head(bottom_n), sorted_words.tail(top_n)]).index\n",
    "    \n",
    "    # 從 DataFrame 中刪除這些詞語，並返回新的 DataFrame\n",
    "    return term_document_df.drop(columns=words_to_remove)\n",
    "\n",
    "# 初始化字典以存儲篩選後的每個類別的詞-文件頻率 DataFrame\n",
    "filtered_term_document_dfs = {}\n",
    "\n",
    "for category in categories:\n",
    "    # 對每個類別的 DataFrame 應用篩選函數\n",
    "    filtered_term_document_dfs[category] = filter_top_bottom_words_by_sum(term_document_dfs[category])\n",
    "\n",
    "# 更新 term_document_dfs 字典為篩選後的 DataFrames\n",
    "term_document_dfs = filtered_term_document_dfs\n",
    "\n",
    "print(f\"Filtered Term-Document Frequency DataFrame for Category {categories[category_number]}:\")\n",
    "print(filtered_term_document_dfs[categories[category_number]])"
   ]
  },
  {
   "cell_type": "code",
   "execution_count": 279,
   "metadata": {},
   "outputs": [
    {
     "name": "stdout",
     "output_type": "stream",
     "text": [
      "已生成交易資料庫：transactional_db_not nostalgia.csv\n",
      "已生成交易資料庫：transactional_db_nostalgia.csv\n"
     ]
    }
   ],
   "source": [
    "import pandas as pd\n",
    "\n",
    "# 定義函數來生成交易格式資料庫\n",
    "def create_transactional_database(term_document_df, output_file):\n",
    "    # 將每個文檔中非零詞彙的位置提取為交易\n",
    "    transactions = []\n",
    "    for index, row in term_document_df.iterrows():\n",
    "        transaction = [term for term, value in row.items() if value > 0]\n",
    "        transactions.append(transaction)\n",
    "    \n",
    "    # 將交易資料寫入 CSV 檔\n",
    "    with open(output_file, 'w') as f:\n",
    "        for transaction in transactions:\n",
    "            f.write(\",\".join(transaction) + \"\\n\")\n",
    "\n",
    "# 對每個類別生成交易格式資料庫\n",
    "for category in term_document_dfs:\n",
    "    output_file = f\"transactional_db_{category}.csv\"\n",
    "    create_transactional_database(term_document_dfs[category], output_file)\n",
    "    print(f\"已生成交易資料庫：{output_file}\")"
   ]
  }
 ],
 "metadata": {
  "kernelspec": {
   "display_name": "Python 3 (ipykernel)",
   "language": "python",
   "name": "python3"
  },
  "language_info": {
   "codemirror_mode": {
    "name": "ipython",
    "version": 3
   },
   "file_extension": ".py",
   "mimetype": "text/x-python",
   "name": "python",
   "nbconvert_exporter": "python",
   "pygments_lexer": "ipython3",
   "version": "3.11.5"
  }
 },
 "nbformat": 4,
 "nbformat_minor": 2
}
